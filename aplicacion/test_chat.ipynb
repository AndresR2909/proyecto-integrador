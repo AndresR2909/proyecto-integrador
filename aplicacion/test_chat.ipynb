{
 "cells": [
  {
   "cell_type": "code",
   "execution_count": 24,
   "metadata": {},
   "outputs": [
    {
     "data": {
      "text/plain": [
       "True"
      ]
     },
     "execution_count": 24,
     "metadata": {},
     "output_type": "execute_result"
    }
   ],
   "source": [
    "\n",
    "import os\n",
    "import dotenv\n",
    "from twilio.rest import Client\n",
    "import time\n",
    "from external.azure_table import AzureTableStorage\n",
    "from datetime import datetime\n",
    "dotenv.load_dotenv()"
   ]
  },
  {
   "cell_type": "code",
   "execution_count": 19,
   "metadata": {},
   "outputs": [],
   "source": [
    "account_sid = 'AC610605252adceabf544e0765b9d9c2b6'\n",
    "auth_token = 'eba84991cb382d0272497a4e99c5c1d5'\n",
    "client = Client(account_sid, auth_token)\n",
    "\n",
    "azure_table = AzureTableStorage()"
   ]
  },
  {
   "cell_type": "code",
   "execution_count": 20,
   "metadata": {},
   "outputs": [],
   "source": [
    "# Obtener la fecha actual\n",
    "fecha_actual = datetime.now()\n",
    "fecha_formateada = fecha_actual.strftime(\"%Y-%m-%d\")"
   ]
  },
  {
   "cell_type": "markdown",
   "metadata": {},
   "source": [
    "## traer resumen general de la azure table"
   ]
  },
  {
   "cell_type": "code",
   "execution_count": 21,
   "metadata": {},
   "outputs": [],
   "source": [
    "table_client = azure_table.table_service.get_table_client(table_name='GeneralSummaryTable')\n",
    "my_filter = f\"PartitionKey eq '{fecha_formateada}'\"\n",
    "entities = table_client.query_entities(my_filter)"
   ]
  },
  {
   "cell_type": "code",
   "execution_count": 22,
   "metadata": {},
   "outputs": [
    {
     "data": {
      "text/plain": [
       "['Introducción:\\nEn este informe final se analizan tres temas diferentes: el discurso de la Reserva Federal de Estados Unidos (Fed) y su impacto en los mercados financieros, el análisis técnico de Bitcoin y su comportamiento en el mercado, y la situación de las bolsas y el mercado de acciones. Cada tema ofrece una perspectiva única sobre el trading y el análisis de mercado.\\n\\nResumen del tema 1 - Discurso de la Fed:\\n- La Fed mantuvo los tipos de interés sin cambios, lo cual era esperado por el mercado.\\n- El nuevo mapa de puntos de la Fed muestra solo una bajada de tasas para este año, en lugar de las tres que se habían mencionado anteriormente.\\n- Se observaron divisiones entre los miembros de la Fed en cuanto a la cantidad de bajadas de tasas que se realizarán en el futuro.\\n- El mercado reaccionó positivamente a la noticia de que la inflación había bajado una décima.\\n- Apple contribuyó al alza de las bolsas, alcanzando nuevos máximos históricos.\\n- El Nasdaq y el S&P 500 registraron fuertes subidas, mientras que el IBEX rebotó en su objetivo de mediano plazo.\\n- El dólar cayó fuertemente, pero está luchando por mantenerse en la zona del máximo de la primera fase.\\n- El euro se fortaleció frente al dólar, alcanzando el nivel de 1.0796.\\n\\nConclusión del tema 1:\\nEl discurso de la Fed y el mapa de puntos para la bajada de tasas tuvieron un impacto positivo en los mercados financieros, especialmente en las bolsas y en el precio de las acciones de Apple. Sin embargo, se observan divisiones entre los miembros de la Fed en cuanto a la cantidad de bajadas de tasas que se realizarán en el futuro. El sentimiento del mercado y la reacción de los inversores en los próximos días serán clave para determinar la dirección de los mercados.\\n\\nResumen del tema 2 - Análisis técnico de Bitcoin:\\n- Bitcoin no logró romper el máximo del 10 de junio, lo que indica la posibilidad de máximos decrecientes en la acción del precio.\\n- El precio de Bitcoin se encuentra en un lateral de precios desde principios de año, sin alcanzar los objetivos de mediano y largo plazo.\\n- Se observa una trampa alcista intradiaria en la acción del precio, lo que sugiere una posible toma de beneficios por parte de las manos fuertes.\\n- El análisis en intervalos de 4 horas muestra una distribución de ventas y máximos decrecientes, lo que indica un escenario de caída hacia los 63,333.\\n- Se destaca la importancia de vigilar la apertura de Wall Street y la aparición de catalizadores que puedan cambiar la situación actual.\\n\\nConclusión del tema 2:\\nEl análisis técnico de Bitcoin muestra indicios de máximos decrecientes y una posible toma de beneficios por parte de las manos fuertes. Se sugiere vigilar los niveles de precios y la acción del precio para determinar posibles movimientos futuros. La apertura de Wall Street y la aparición de catalizadores pueden influir en la dirección del precio.\\n\\nResumen del tema 3 - Situación de las bolsas y el mercado de acciones:\\n- Los mercados están reaccionando a los datos económicos, como el Índice de Precios al Productor (IPP) y las solicitudes de desempleo semanales.\\n- Aunque los mercados han experimentado cierta caída, no ha sido significativa y se espera que se mantengan estables en general.\\n- El sentimiento del mercado se encuentra en una zona neutral, lo que indica que no hay euforia ni miedo extremo.\\n- Se mencionan los objetivos de subida para los índices Nasdaq y S&P 500.\\n- Se destaca la importancia de esperar una corrección antes de realizar nuevas inversiones.\\n- Se mencionan algunas acciones específicas, como Google, Apple y ServiceNow, y se ofrecen perspectivas sobre su desempeño y oportunidades de inversión.\\n- Se proporciona información sobre las recomendaciones de analistas y las expectativas de crecimiento de ServiceNow.\\n- Se menciona la rotación de la cartera y la incorporación de nuevas acciones.\\n\\nConclusión del tema 3:\\nEl informe destaca la importancia de seguir de cerca los datos económicos y']"
      ]
     },
     "execution_count": 22,
     "metadata": {},
     "output_type": "execute_result"
    }
   ],
   "source": [
    "list_summaries = [sumaries['resumen'] for sumaries in entities]\n",
    "list_summaries"
   ]
  },
  {
   "cell_type": "markdown",
   "metadata": {},
   "source": [
    "## dividir resumenes y enviar por whatsapp"
   ]
  },
  {
   "cell_type": "code",
   "execution_count": 25,
   "metadata": {},
   "outputs": [
    {
     "name": "stdout",
     "output_type": "stream",
     "text": [
      "SM903fc7d5d361b4a8bd3b6d69056e3490\n"
     ]
    }
   ],
   "source": [
    "message = client.messages.create(\n",
    "    from_='whatsapp:+14155238886',\n",
    "    body=f'Resumen videos proyecto integrador {fecha_formateada}: ',\n",
    "    to='whatsapp:+573153800409'\n",
    "  )\n",
    "for summary in list_summaries:\n",
    "  for m in summary.split(sep = '\\n\\n'):\n",
    "    message = client.messages.create(\n",
    "      from_='whatsapp:+14155238886',\n",
    "      body=f'{m}',\n",
    "      to='whatsapp:+573153800409'\n",
    "    )\n",
    "    time.sleep(4)\n",
    "\n",
    "  print(message.sid)"
   ]
  }
 ],
 "metadata": {
  "kernelspec": {
   "display_name": ".venv",
   "language": "python",
   "name": "python3"
  },
  "language_info": {
   "codemirror_mode": {
    "name": "ipython",
    "version": 3
   },
   "file_extension": ".py",
   "mimetype": "text/x-python",
   "name": "python",
   "nbconvert_exporter": "python",
   "pygments_lexer": "ipython3",
   "version": "3.11.4"
  }
 },
 "nbformat": 4,
 "nbformat_minor": 2
}
