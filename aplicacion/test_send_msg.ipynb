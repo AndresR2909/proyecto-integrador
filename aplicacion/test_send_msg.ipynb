{
 "cells": [
  {
   "cell_type": "code",
   "execution_count": 22,
   "metadata": {},
   "outputs": [
    {
     "data": {
      "text/plain": [
       "True"
      ]
     },
     "execution_count": 22,
     "metadata": {},
     "output_type": "execute_result"
    }
   ],
   "source": [
    "import os\n",
    "import dotenv\n",
    "from external.azure_table import AzureTableStorage\n",
    "from external.twilio import TwilioMessaging\n",
    "\n",
    "from app.repositories.message_sender import MessageSender\n",
    "from app.repositories.table_data_reader import TableDataReader\n",
    "\n",
    "from app.use_cases.data_from_table_to_wapp import SendMessageWhatsapp\n",
    "\n",
    "dotenv.load_dotenv()"
   ]
  },
  {
   "cell_type": "code",
   "execution_count": 2,
   "metadata": {},
   "outputs": [
    {
     "name": "stdout",
     "output_type": "stream",
     "text": [
      "Note: you may need to restart the kernel to use updated packages.\n"
     ]
    }
   ],
   "source": [
    "pip freeze > requirements.txt"
   ]
  },
  {
   "cell_type": "code",
   "execution_count": 28,
   "metadata": {},
   "outputs": [],
   "source": [
    "azure_table = AzureTableStorage()\n",
    "twilio = TwilioMessaging()\n",
    "\n",
    "table_reader = TableDataReader(azure_table)\n",
    "msg_sender = MessageSender(twilio)\n",
    "\n",
    "use_case_send_summary =  SendMessageWhatsapp(table_reader,msg_sender)"
   ]
  },
  {
   "cell_type": "code",
   "execution_count": 30,
   "metadata": {},
   "outputs": [
    {
     "name": "stdout",
     "output_type": "stream",
     "text": [
      "hoy 2024-06-15\n"
     ]
    }
   ],
   "source": [
    "summaries = use_case_send_summary.execute('GeneralSummaryTable')"
   ]
  },
  {
   "cell_type": "code",
   "execution_count": 31,
   "metadata": {},
   "outputs": [],
   "source": [
    "for s in summaries:\n",
    "    print(s)"
   ]
  }
 ],
 "metadata": {
  "kernelspec": {
   "display_name": ".venv",
   "language": "python",
   "name": "python3"
  },
  "language_info": {
   "codemirror_mode": {
    "name": "ipython",
    "version": 3
   },
   "file_extension": ".py",
   "mimetype": "text/x-python",
   "name": "python",
   "nbconvert_exporter": "python",
   "pygments_lexer": "ipython3",
   "version": "3.11.4"
  }
 },
 "nbformat": 4,
 "nbformat_minor": 2
}
