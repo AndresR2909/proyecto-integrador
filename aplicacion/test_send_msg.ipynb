{
 "cells": [
  {
   "cell_type": "code",
   "execution_count": 1,
   "metadata": {},
   "outputs": [
    {
     "data": {
      "text/plain": [
       "True"
      ]
     },
     "execution_count": 1,
     "metadata": {},
     "output_type": "execute_result"
    }
   ],
   "source": [
    "import os\n",
    "import dotenv\n",
    "from external.azure_table import AzureTableStorage\n",
    "from external.twilio import TwilioMessaging\n",
    "\n",
    "from app.repositories.message_sender import MessageSender\n",
    "from app.repositories.table_data_reader import TableDataReader\n",
    "\n",
    "from app.use_cases.data_from_table_to_wapp import SendMessageWhatsapp\n",
    "\n",
    "dotenv.load_dotenv()"
   ]
  },
  {
   "cell_type": "code",
   "execution_count": 2,
   "metadata": {},
   "outputs": [
    {
     "name": "stdout",
     "output_type": "stream",
     "text": [
      "Note: you may need to restart the kernel to use updated packages.\n"
     ]
    }
   ],
   "source": [
    "pip freeze > requirements.txt"
   ]
  },
  {
   "cell_type": "code",
   "execution_count": 2,
   "metadata": {},
   "outputs": [],
   "source": [
    "azure_table = AzureTableStorage()\n",
    "twilio = TwilioMessaging()\n",
    "\n",
    "table_reader = TableDataReader(azure_table)\n",
    "msg_sender = MessageSender(twilio)\n",
    "\n",
    "use_case_send_summary =  SendMessageWhatsapp(table_reader,msg_sender)"
   ]
  },
  {
   "cell_type": "code",
   "execution_count": 5,
   "metadata": {},
   "outputs": [
    {
     "name": "stdout",
     "output_type": "stream",
     "text": [
      "hoy 2024-06-17\n"
     ]
    }
   ],
   "source": [
    "summaries = use_case_send_summary.execute('GeneralSummaryTable')"
   ]
  },
  {
   "cell_type": "code",
   "execution_count": 6,
   "metadata": {},
   "outputs": [
    {
     "name": "stdout",
     "output_type": "stream",
     "text": [
      "Introducción:\n",
      "El informe final elaborado por el experto en trading y análisis de mercado aborda dos temas principales: la situación de las bolsas y el análisis técnico de Bitcoin y Ethereum. En el primer tema se analiza la agenda macroeconómica, la volatilidad del SP500 y los posibles movimientos de acciones de compañías como Apple, Microsoft, Google y Tesla. Además, se mencionan los niveles relevantes en los índices del IEX y el DAX. En el segundo tema se examinan los niveles clave de precios y las tendencias observadas en diferentes marcos de tiempo para Bitcoin y Ethereum.\n",
      "\n",
      "Puntos importantes sobre las bolsas:\n",
      "- Se espera que las bolsas continúen en alza, especialmente el NASDAQ y acciones como Apple, Microsoft, Google y Tesla.\n",
      "- La volatilidad del SP500 indica la posibilidad de alcanzar nuevos objetivos de mediano plazo.\n",
      "- Los datos económicos relevantes de Estados Unidos, como las ventas minoristas y la construcción de viviendas, pueden influir en la política monetaria de la Reserva Federal.\n",
      "- Es importante combinar el análisis técnico con el análisis fundamental al evaluar las acciones de una compañía.\n",
      "- Se presenta la evolución de una cartera modelo, con ganancias en acciones como Nexera y Semiconductor.\n",
      "- Se analiza la situación del IEX y el DAX, con señales de toma de beneficios y niveles relevantes a tener en cuenta.\n",
      "\n",
      "Conclusión sobre las bolsas:\n",
      "El informe destaca la posible continuación de la tendencia alcista en las bolsas, especialmente en el NASDAQ y en acciones como Apple, Microsoft, Google y Tesla. También resalta la importancia de combinar el análisis técnico y fundamental al evaluar las acciones de una compañía. Además, se proporciona información sobre la agenda macroeconómica y se analiza la situación de los índices del IEX y el DAX.\n",
      "\n",
      "Puntos importantes sobre Bitcoin y Ethereum:\n",
      "- El precio de Bitcoin ha sido rechazado en el nivel de 6662, indicando presión bajista en el corto plazo.\n",
      "- El cierre semanal por debajo de los $9,000 sugiere toma de beneficios y presión vendedora en la zona de 69000-71500.\n",
      "- El mínimo semanal de 6662 es un nivel crítico a tener en cuenta, ya que su ruptura podría llevar el precio hacia los 56750.\n",
      "- Aunque el escenario actual es correctivo, la tendencia general de Bitcoin sigue siendo alcista.\n",
      "- Los niveles clave a vigilar para una posible subida son 6865, 6865, 6915 y 71000-71500.\n",
      "- En Ethereum, se observa una tendencia a la baja con objetivos en 3400 y 3194.\n",
      "- Los niveles clave en Ethereum son 3586, 3856 y 3550.\n",
      "\n",
      "Conclusión sobre Bitcoin y Ethereum:\n",
      "El análisis técnico realizado muestra presión bajista en el corto plazo para Bitcoin, pero también indica niveles clave a vigilar para una posible subida. Aunque la tendencia general de Bitcoin sigue siendo alcista, es importante tener en cuenta los niveles de precios y las tendencias observadas en diferentes marcos de tiempo. En el caso de Ethereum, se observa una tendencia a la baja con objetivos específicos a tener en cuenta. Estos análisis son fundamentales para tomar decisiones informadas en el trading y análisis de mercado.\n",
      "Introducción:\n",
      "El informe final aborda la importancia de la educación financiera y cómo el método del 85% puede ser un primer paso hacia ella. Se destaca la falta de enseñanza de educación financiera en muchos países y se enfatiza la responsabilidad individual de educarse financieramente. Además, se resalta la importancia del ahorro y cómo este puede ser utilizado para invertir y hacer trading.\n",
      "\n",
      "Puntos importantes:\n",
      "- El ahorro se presenta como la base de la educación financiera, destacando que el dinero destinado a invertir debe provenir de los ahorros y no de otros gastos.\n",
      "- Se menciona la importancia de contar con un fondo de emergencia para cubrir imprevistos, resaltando que muchas personas carecen de este fondo y esto puede generar problemas financieros.\n",
      "- Se diferencia la tranquilidad financiera de la independencia financiera, destacando que la primera es más deseable. Se enfatiza cómo tener ahorros puede brindar tranquilidad financiera.\n",
      "- Se destaca la importancia de establecer un sistema de ahorro automático, donde se destina una cantidad fija de dinero cada mes para ahorrar e invertir. Se resalta que esto ayuda a mantener la disciplina y consistencia en los ahorros.\n",
      "- Se introduce el método del 85%, que consiste en destinar el 15% de los ingresos mensuales netos al ahorro e inversión. Se destaca que este método proporciona una estructura financiera clara y equilibra el disfrute y el ahorro.\n",
      "\n",
      "Conclusión:\n",
      "En conclusión, el informe final resalta la importancia de la educación financiera y cómo el método del 85% puede ser un primer paso hacia ella. Se enfatiza la importancia del ahorro, el fondo de emergencia y el sistema de ahorro automático. Se concluye que tener una estructura financiera clara y equilibrar el disfrute y el ahorro puede brindar tranquilidad financiera.\n"
     ]
    }
   ],
   "source": [
    "for s in summaries:\n",
    "    print(s)"
   ]
  }
 ],
 "metadata": {
  "kernelspec": {
   "display_name": ".venv",
   "language": "python",
   "name": "python3"
  },
  "language_info": {
   "codemirror_mode": {
    "name": "ipython",
    "version": 3
   },
   "file_extension": ".py",
   "mimetype": "text/x-python",
   "name": "python",
   "nbconvert_exporter": "python",
   "pygments_lexer": "ipython3",
   "version": "3.11.4"
  }
 },
 "nbformat": 4,
 "nbformat_minor": 2
}
