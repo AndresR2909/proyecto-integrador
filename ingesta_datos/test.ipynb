{
 "cells": [
  {
   "cell_type": "code",
   "execution_count": 1,
   "metadata": {},
   "outputs": [
    {
     "data": {
      "text/plain": [
       "True"
      ]
     },
     "execution_count": 1,
     "metadata": {},
     "output_type": "execute_result"
    }
   ],
   "source": [
    "import azure.functions as func\n",
    "import logging\n",
    "from datetime import datetime\n",
    "from logic.data_ingestion import DataIngestion\n",
    "from logic.blob_storage import BlobStorageManager\n",
    "import os\n",
    "import io\n",
    "from dotenv import load_dotenv\n",
    "load_dotenv()"
   ]
  },
  {
   "cell_type": "code",
   "execution_count": 2,
   "metadata": {},
   "outputs": [],
   "source": [
    "DELTA_DAYS = os.environ.get('DELTA_DAYS')\n",
    "DELTA_HOURS = os.environ.get('DELTA_HOURS')\n",
    "CHANNEL_LIST = os.environ.get('CHANNEL_LIST')\n",
    "SCHEDULE = os.environ.get('CRON_SCHEDULE')"
   ]
  },
  {
   "cell_type": "code",
   "execution_count": 3,
   "metadata": {},
   "outputs": [],
   "source": [
    "data_ingestion = DataIngestion()\n",
    "bsm = BlobStorageManager()\n"
   ]
  },
  {
   "cell_type": "code",
   "execution_count": 4,
   "metadata": {},
   "outputs": [],
   "source": [
    "chanel_list = CHANNEL_LIST.split(',')"
   ]
  },
  {
   "cell_type": "code",
   "execution_count": 5,
   "metadata": {},
   "outputs": [
    {
     "name": "stderr",
     "output_type": "stream",
     "text": [
      "Procesando urls:   0%|          | 0/13 [00:00<?, ?it/s]"
     ]
    },
    {
     "name": "stdout",
     "output_type": "stream",
     "text": [
      "extrayendo informacion de canal Bolsas hoy\n",
      "delta_date: 2024-05-15 12:32:19.408847\n",
      "published_date: 2024-05-15 13:32:19.408847\n"
     ]
    },
    {
     "name": "stderr",
     "output_type": "stream",
     "text": [
      "Procesando urls:   8%|▊         | 1/13 [00:07<01:28,  7.39s/it]"
     ]
    },
    {
     "name": "stdout",
     "output_type": "stream",
     "text": [
      "delta_date: 2024-05-15 12:32:21.987931\n",
      "published_date: 2024-05-15 05:32:21.987931\n",
      "extrayendo informacion de canal Bolsas hoy\n"
     ]
    },
    {
     "name": "stderr",
     "output_type": "stream",
     "text": [
      "Procesando urls:  15%|█▌        | 2/13 [00:09<00:45,  4.14s/it]"
     ]
    },
    {
     "name": "stdout",
     "output_type": "stream",
     "text": [
      "delta_date: 2024-05-15 12:32:23.843140\n",
      "published_date: 2024-04-15 20:32:23.843140\n",
      "extrayendo informacion de canal Bitcoin hoy\n",
      "delta_date: 2024-05-15 12:32:39.605432\n",
      "published_date: 2024-05-15 13:32:39.605432\n"
     ]
    },
    {
     "name": "stderr",
     "output_type": "stream",
     "text": [
      "Procesando urls:  23%|██▎       | 3/13 [00:27<01:46, 10.61s/it]"
     ]
    },
    {
     "name": "stdout",
     "output_type": "stream",
     "text": [
      "delta_date: 2024-05-15 12:32:42.155710\n",
      "published_date: 2024-05-15 02:32:42.155710\n",
      "extrayendo informacion de canal Bitcoin hoy\n"
     ]
    },
    {
     "name": "stderr",
     "output_type": "stream",
     "text": [
      "Procesando urls:  31%|███       | 4/13 [00:29<01:04,  7.14s/it]"
     ]
    },
    {
     "name": "stdout",
     "output_type": "stream",
     "text": [
      "delta_date: 2024-05-15 12:32:43.972819\n",
      "published_date: 2024-04-15 20:32:43.972819\n",
      "extrayendo informacion de canal ARENA ALFA \n"
     ]
    },
    {
     "name": "stderr",
     "output_type": "stream",
     "text": [
      "Procesando urls:  38%|███▊      | 5/13 [00:33<00:49,  6.13s/it]"
     ]
    },
    {
     "name": "stdout",
     "output_type": "stream",
     "text": [
      "delta_date: 2024-05-15 12:32:48.323718\n",
      "published_date: 2024-05-01 00:00:00\n",
      "extrayendo informacion de canal ARENA ALFA \n"
     ]
    },
    {
     "name": "stderr",
     "output_type": "stream",
     "text": [
      "Procesando urls:  46%|████▌     | 6/13 [00:35<00:32,  4.69s/it]"
     ]
    },
    {
     "name": "stdout",
     "output_type": "stream",
     "text": [
      "delta_date: 2024-05-15 12:32:50.213580\n",
      "published_date: 2024-04-15 20:32:50.213580\n",
      "extrayendo informacion de canal USACRYPTONOTICIAS\n"
     ]
    },
    {
     "name": "stderr",
     "output_type": "stream",
     "text": [
      "Procesando urls:  54%|█████▍    | 7/13 [00:37<00:22,  3.83s/it]"
     ]
    },
    {
     "name": "stdout",
     "output_type": "stream",
     "text": [
      "delta_date: 2024-05-15 12:32:52.259136\n",
      "published_date: 2023-09-18 20:32:52.259136\n",
      "extrayendo informacion de canal USACRYPTONOTICIAS\n"
     ]
    },
    {
     "name": "stderr",
     "output_type": "stream",
     "text": [
      "Procesando urls:  62%|██████▏   | 8/13 [00:39<00:16,  3.23s/it]"
     ]
    },
    {
     "name": "stdout",
     "output_type": "stream",
     "text": [
      "delta_date: 2024-05-15 12:32:54.219342\n",
      "published_date: 2024-02-15 20:32:54.219342\n",
      "extrayendo informacion de canal Memorias de Tiburón\n"
     ]
    },
    {
     "name": "stderr",
     "output_type": "stream",
     "text": [
      "Procesando urls:  69%|██████▉   | 9/13 [00:42<00:12,  3.08s/it]"
     ]
    },
    {
     "name": "stdout",
     "output_type": "stream",
     "text": [
      "delta_date: 2024-05-15 12:32:56.970226\n",
      "published_date: 2024-05-14 20:32:56.970226\n",
      "extrayendo informacion de canal USACRYPTONOTICIAS\n",
      "delta_date: 2024-05-15 12:33:08.527201\n",
      "published_date: 2024-05-15 16:33:08.527201\n"
     ]
    },
    {
     "name": "stderr",
     "output_type": "stream",
     "text": [
      "Procesando urls:  77%|███████▋  | 10/13 [00:56<00:19,  6.55s/it]"
     ]
    },
    {
     "name": "stdout",
     "output_type": "stream",
     "text": [
      "delta_date: 2024-05-15 12:33:11.293758\n",
      "published_date: 2024-05-15 09:33:11.293758\n",
      "extrayendo informacion de canal Bitcoin hoy\n"
     ]
    },
    {
     "name": "stderr",
     "output_type": "stream",
     "text": [
      "Procesando urls:  85%|████████▍ | 11/13 [00:58<00:10,  5.14s/it]"
     ]
    },
    {
     "name": "stdout",
     "output_type": "stream",
     "text": [
      "delta_date: 2024-05-15 12:33:13.246462\n",
      "published_date: 2023-08-19 20:33:13.246462\n",
      "extrayendo informacion de canal ARENA ALFA \n"
     ]
    },
    {
     "name": "stderr",
     "output_type": "stream",
     "text": [
      "Procesando urls:  92%|█████████▏| 12/13 [01:00<00:04,  4.16s/it]"
     ]
    },
    {
     "name": "stdout",
     "output_type": "stream",
     "text": [
      "delta_date: 2024-05-15 12:33:15.168184\n",
      "published_date: 2023-11-17 20:33:15.168184\n",
      "extrayendo informacion de canal Bolsas hoy\n"
     ]
    },
    {
     "name": "stderr",
     "output_type": "stream",
     "text": [
      "Procesando urls: 100%|██████████| 13/13 [01:02<00:00,  4.81s/it]"
     ]
    },
    {
     "name": "stdout",
     "output_type": "stream",
     "text": [
      "delta_date: 2024-05-15 12:33:17.070453\n",
      "published_date: 2024-02-15 20:33:17.070453\n"
     ]
    },
    {
     "name": "stderr",
     "output_type": "stream",
     "text": [
      "\n"
     ]
    }
   ],
   "source": [
    "if DELTA_DAYS and (DELTA_DAYS != \"0\"):\n",
    "    delta_days = int(DELTA_DAYS)\n",
    "    logging.info(f'delta days: {delta_days}') \n",
    "    df_delta = data_ingestion.delta_load_from_youtube_channel_by_days(url_channel_list=chanel_list, \n",
    "                                            delta_days=delta_days )\n",
    "    if len(df_delta) != 0:\n",
    "        data = df_delta.to_csv(header=True,index=False,sep=\";\",mode='w')\n",
    "        logging.info(f'Numero de registros: {len(df_delta)}')\n",
    "    else:\n",
    "        logging.info(f'df_delta sin registros')\n",
    "        data = None\n",
    "\n",
    "elif DELTA_HOURS and (DELTA_DAYS == \"0\"): \n",
    "    delta_hours = int(DELTA_HOURS)\n",
    "    logging.info(f'delta hours: {delta_hours}')\n",
    "    df_delta = data_ingestion.delta_load_from_youtube_channel_by_hours(url_channel_list=chanel_list, \n",
    "                                                delta_hours=delta_hours )\n",
    "    if len(df_delta) != 0:\n",
    "        data = df_delta.to_csv(header=True,index=False,sep=\";\",mode='w')\n",
    "        logging.info(f'Numero de registros: {len(df_delta)}')\n",
    "    else:\n",
    "        logging.info(f'df_delta sin registros')\n",
    "        data = None\n",
    "else:   \n",
    "    data = None\n",
    "    logging.info(f'lack delta parameters')"
   ]
  },
  {
   "cell_type": "code",
   "execution_count": 9,
   "metadata": {},
   "outputs": [],
   "source": [
    "timestamp = datetime.now()\n",
    "if data:    \n",
    "    buffer = io.StringIO()\n",
    "    df_delta.info(buf=buffer)\n",
    "    s = buffer.getvalue()\n",
    "    logging.info(s)\n",
    "    #outputblob.set(data)\n",
    "    file_path = f\"youtube_delta_data_{timestamp.strftime('%Y-%m-%d-%H_%M')}.csv\"\n",
    "    bsm.upload_blob(file_path,data)\n",
    "else:\n",
    "    logging.info('No se ingestaron datos')"
   ]
  },
  {
   "cell_type": "code",
   "execution_count": 6,
   "metadata": {},
   "outputs": [
    {
     "data": {
      "text/html": [
       "<div>\n",
       "<style scoped>\n",
       "    .dataframe tbody tr th:only-of-type {\n",
       "        vertical-align: middle;\n",
       "    }\n",
       "\n",
       "    .dataframe tbody tr th {\n",
       "        vertical-align: top;\n",
       "    }\n",
       "\n",
       "    .dataframe thead th {\n",
       "        text-align: right;\n",
       "    }\n",
       "</style>\n",
       "<table border=\"1\" class=\"dataframe\">\n",
       "  <thead>\n",
       "    <tr style=\"text-align: right;\">\n",
       "      <th></th>\n",
       "      <th>chanel_name</th>\n",
       "      <th>chanel_id</th>\n",
       "      <th>chanel_url</th>\n",
       "      <th>video_id</th>\n",
       "      <th>title</th>\n",
       "      <th>url</th>\n",
       "      <th>keywords</th>\n",
       "      <th>publish_date</th>\n",
       "      <th>relativeDateText</th>\n",
       "      <th>total_length</th>\n",
       "      <th>total_views</th>\n",
       "      <th>video_rating</th>\n",
       "      <th>description</th>\n",
       "      <th>duration</th>\n",
       "      <th>caption_text_es</th>\n",
       "    </tr>\n",
       "  </thead>\n",
       "  <tbody>\n",
       "    <tr>\n",
       "      <th>0</th>\n",
       "      <td>Bolsas hoy</td>\n",
       "      <td>UCWcFkWDnl9z8CRTuNWWlipw</td>\n",
       "      <td>https://www.youtube.com/channel/UCWcFkWDnl9z8C...</td>\n",
       "      <td>J-142CNqZYI</td>\n",
       "      <td>NO HUBO SORPRESAS ¿SE HA DETENIDO EL REPUNTE D...</td>\n",
       "      <td>https://www.youtube.com/watch?v=J-142CNqZYI</td>\n",
       "      <td>[]</td>\n",
       "      <td>2024-05-15</td>\n",
       "      <td>7 hours ago</td>\n",
       "      <td>869</td>\n",
       "      <td>1213</td>\n",
       "      <td>None</td>\n",
       "      <td>✅ Pincha aquí para crear tu propio plan de inv...</td>\n",
       "      <td>869</td>\n",
       "      <td>Saludos cordiales Bueno un poquito más tarde d...</td>\n",
       "    </tr>\n",
       "    <tr>\n",
       "      <th>1</th>\n",
       "      <td>Bitcoin hoy</td>\n",
       "      <td>UC4DOPLw9NRRBFW4wYjcWxiA</td>\n",
       "      <td>https://www.youtube.com/channel/UC4DOPLw9NRRBF...</td>\n",
       "      <td>0iXVTW_y6IU</td>\n",
       "      <td>POR QUÉ BITCOIN HOY REBOTA Y SI ESTO ACABA CON...</td>\n",
       "      <td>https://www.youtube.com/watch?v=0iXVTW_y6IU</td>\n",
       "      <td>[]</td>\n",
       "      <td>2024-05-15</td>\n",
       "      <td>7 hours ago</td>\n",
       "      <td>588</td>\n",
       "      <td>10937</td>\n",
       "      <td>None</td>\n",
       "      <td>None</td>\n",
       "      <td>589</td>\n",
       "      <td>Saludos cordiales Bienvenidos a bitcoin hoy qu...</td>\n",
       "    </tr>\n",
       "    <tr>\n",
       "      <th>2</th>\n",
       "      <td>USACRYPTONOTICIAS</td>\n",
       "      <td>UCY8AYdix1el08AEFzzwS3Yg</td>\n",
       "      <td>https://www.youtube.com/channel/UCY8AYdix1el08...</td>\n",
       "      <td>kt1tC9zoajI</td>\n",
       "      <td>BITCOIN: RETROCEDE para INTENTAR APOYAR? | CRY...</td>\n",
       "      <td>https://www.youtube.com/watch?v=kt1tC9zoajI</td>\n",
       "      <td>[]</td>\n",
       "      <td>2024-05-15</td>\n",
       "      <td>Streamed 4 hours ago</td>\n",
       "      <td>3663</td>\n",
       "      <td>7282</td>\n",
       "      <td>None</td>\n",
       "      <td>🍀🍀🍀 ENLACE BITGET\\nhttps://partner.bitget.com/...</td>\n",
       "      <td>3664</td>\n",
       "      <td>de USA criptonoticias desde un café en cualqui...</td>\n",
       "    </tr>\n",
       "  </tbody>\n",
       "</table>\n",
       "</div>"
      ],
      "text/plain": [
       "         chanel_name                 chanel_id  \\\n",
       "0         Bolsas hoy  UCWcFkWDnl9z8CRTuNWWlipw   \n",
       "1        Bitcoin hoy  UC4DOPLw9NRRBFW4wYjcWxiA   \n",
       "2  USACRYPTONOTICIAS  UCY8AYdix1el08AEFzzwS3Yg   \n",
       "\n",
       "                                          chanel_url     video_id  \\\n",
       "0  https://www.youtube.com/channel/UCWcFkWDnl9z8C...  J-142CNqZYI   \n",
       "1  https://www.youtube.com/channel/UC4DOPLw9NRRBF...  0iXVTW_y6IU   \n",
       "2  https://www.youtube.com/channel/UCY8AYdix1el08...  kt1tC9zoajI   \n",
       "\n",
       "                                               title  \\\n",
       "0  NO HUBO SORPRESAS ¿SE HA DETENIDO EL REPUNTE D...   \n",
       "1  POR QUÉ BITCOIN HOY REBOTA Y SI ESTO ACABA CON...   \n",
       "2  BITCOIN: RETROCEDE para INTENTAR APOYAR? | CRY...   \n",
       "\n",
       "                                           url keywords publish_date  \\\n",
       "0  https://www.youtube.com/watch?v=J-142CNqZYI       []   2024-05-15   \n",
       "1  https://www.youtube.com/watch?v=0iXVTW_y6IU       []   2024-05-15   \n",
       "2  https://www.youtube.com/watch?v=kt1tC9zoajI       []   2024-05-15   \n",
       "\n",
       "       relativeDateText  total_length  total_views video_rating  \\\n",
       "0           7 hours ago           869         1213         None   \n",
       "1           7 hours ago           588        10937         None   \n",
       "2  Streamed 4 hours ago          3663         7282         None   \n",
       "\n",
       "                                         description  duration  \\\n",
       "0  ✅ Pincha aquí para crear tu propio plan de inv...       869   \n",
       "1                                               None       589   \n",
       "2  🍀🍀🍀 ENLACE BITGET\\nhttps://partner.bitget.com/...      3664   \n",
       "\n",
       "                                     caption_text_es  \n",
       "0  Saludos cordiales Bueno un poquito más tarde d...  \n",
       "1  Saludos cordiales Bienvenidos a bitcoin hoy qu...  \n",
       "2  de USA criptonoticias desde un café en cualqui...  "
      ]
     },
     "execution_count": 6,
     "metadata": {},
     "output_type": "execute_result"
    }
   ],
   "source": [
    "df_delta"
   ]
  }
 ],
 "metadata": {
  "kernelspec": {
   "display_name": ".venv",
   "language": "python",
   "name": "python3"
  },
  "language_info": {
   "codemirror_mode": {
    "name": "ipython",
    "version": 3
   },
   "file_extension": ".py",
   "mimetype": "text/x-python",
   "name": "python",
   "nbconvert_exporter": "python",
   "pygments_lexer": "ipython3",
   "version": "3.11.4"
  }
 },
 "nbformat": 4,
 "nbformat_minor": 2
}
