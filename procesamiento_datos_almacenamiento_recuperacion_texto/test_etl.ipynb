{
 "cells": [
  {
   "cell_type": "code",
   "execution_count": 12,
   "metadata": {},
   "outputs": [],
   "source": [
    "#pip install pandas azure-storage-blob azure-functions python-dotenv langchain-openai langchain pinecone-client pyarrow adlfs fsspec langchain_pinecone -q"
   ]
  },
  {
   "cell_type": "code",
   "execution_count": 13,
   "metadata": {},
   "outputs": [],
   "source": [
    "#pip install azure-storage-file-datalake -Q"
   ]
  },
  {
   "cell_type": "code",
   "execution_count": 3,
   "metadata": {},
   "outputs": [
    {
     "name": "stdout",
     "output_type": "stream",
     "text": [
      "Note: you may need to restart the kernel to use updated packages.\n"
     ]
    }
   ],
   "source": [
    "pip freeze ->requirements.txt"
   ]
  },
  {
   "cell_type": "code",
   "execution_count": 8,
   "metadata": {},
   "outputs": [
    {
     "data": {
      "text/plain": [
       "True"
      ]
     },
     "execution_count": 8,
     "metadata": {},
     "output_type": "execute_result"
    }
   ],
   "source": [
    "import time\n",
    "import pandas as pd\n",
    "from datetime import datetime,timezone\n",
    "from external.blob_storage import BlobStorage\n",
    "from app.repositories.blob_storage_reader import BlobStorageReader\n",
    "from dotenv import load_dotenv\n",
    "from datetime import datetime,timedelta,timezone\n",
    "load_dotenv()"
   ]
  },
  {
   "cell_type": "markdown",
   "metadata": {},
   "source": [
    "# test caso de uso landing to raw"
   ]
  },
  {
   "cell_type": "code",
   "execution_count": 17,
   "metadata": {},
   "outputs": [
    {
     "data": {
      "text/plain": [
       "True"
      ]
     },
     "execution_count": 17,
     "metadata": {},
     "output_type": "execute_result"
    }
   ],
   "source": [
    "from external.data_lake_pandas import DataLakePandas\n",
    "from app.repositories.pandas_loader import DataLakeLoader\n",
    "from external.blob_storage import BlobStorage\n",
    "from app.repositories.blob_storage_reader import BlobStorageReader\n",
    "from app.use_cases.data_preprocessing_raw import DataPreprocessingRaw #\n",
    "from app.use_cases.data_prep_delta_raw import DataPreprocessingDeltaRaw #\n",
    "from app.repositories.pandas_reader import DataLakeReader\n",
    "from external.data_lake_storage import DataLakeStorage\n",
    "from dotenv import load_dotenv\n",
    "load_dotenv()"
   ]
  },
  {
   "cell_type": "markdown",
   "metadata": {},
   "source": [
    "full"
   ]
  },
  {
   "cell_type": "code",
   "execution_count": 10,
   "metadata": {},
   "outputs": [
    {
     "name": "stdout",
     "output_type": "stream",
     "text": [
      "abfs://sadatalakeproyecto.dfs.core.windows.net/raw/youtube_data/youtube_data_2024\n",
      "abfs://sadatalakeproyecto.dfs.core.windows.net/raw/youtube_data/youtube_data_2023\n",
      "abfs://sadatalakeproyecto.dfs.core.windows.net/raw/youtube_data/youtube_data_2022\n",
      "abfs://sadatalakeproyecto.dfs.core.windows.net/raw/youtube_data/youtube_data_2021\n",
      "abfs://sadatalakeproyecto.dfs.core.windows.net/raw/youtube_data/youtube_data_2020\n",
      "abfs://sadatalakeproyecto.dfs.core.windows.net/raw/youtube_data/youtube_data_2019\n",
      "abfs://sadatalakeproyecto.dfs.core.windows.net/raw/youtube_data/youtube_data_2014\n"
     ]
    }
   ],
   "source": [
    "sink_container_name = \"raw\"\n",
    "filename = 'youtube_data/youtube_data'\n",
    "source_container_name = \"landing\"\n",
    "blob_storage = BlobStorage(source_container_name)\n",
    "bs_reader = BlobStorageReader(blob_storage)\n",
    "dl_storage = DataLakePandas()\n",
    "dl_loader = DataLakeLoader(dl_storage)\n",
    "use_case = DataPreprocessingRaw(bs_reader, dl_loader)  \n",
    "use_case.execute(\"source_blob\", destination=sink_container_name,filename=filename)"
   ]
  },
  {
   "cell_type": "markdown",
   "metadata": {},
   "source": [
    "delta"
   ]
  },
  {
   "cell_type": "code",
   "execution_count": 25,
   "metadata": {},
   "outputs": [],
   "source": [
    "container_name = \"landing\"\n",
    "blob_storage = BlobStorage(container_name)\n",
    "bs_reader = BlobStorageReader(blob_storage)\n",
    "dl_storage = DataLakeStorage(\"raw\")\n",
    "dl_pandas = DataLakePandas()\n",
    "dl_loader = DataLakeLoader(dl_pandas)\n",
    "dl_reader = DataLakeReader(dl_pandas,dl_storage)\n"
   ]
  },
  {
   "cell_type": "code",
   "execution_count": 26,
   "metadata": {},
   "outputs": [
    {
     "name": "stdout",
     "output_type": "stream",
     "text": [
      "hoy 2024-04-23 15:14:13.807857+00:00\n"
     ]
    },
    {
     "data": {
      "text/plain": [
       "datetime.datetime(2024, 4, 22, 0, 0, 0, 807857, tzinfo=datetime.timezone.utc)"
      ]
     },
     "execution_count": 26,
     "metadata": {},
     "output_type": "execute_result"
    }
   ],
   "source": [
    "from datetime import datetime,timedelta,timezone\n",
    "\n",
    "today= datetime.now(tz=timezone.utc)\n",
    "print(f\"hoy {today}\")\n",
    "delta_day = timedelta(days=1)\n",
    "delta_hour = timedelta(hours=today.hour)+timedelta(minutes=today.minute)+timedelta(seconds=today.second)\n",
    "delta_date = today-delta_day-delta_hour\n",
    "delta_date"
   ]
  },
  {
   "cell_type": "code",
   "execution_count": 27,
   "metadata": {},
   "outputs": [
    {
     "name": "stdout",
     "output_type": "stream",
     "text": [
      "hoy 2024-04-23 15:14:16.287018+00:00\n"
     ]
    }
   ],
   "source": [
    "from app.use_cases.data_prep_delta_raw import DataPreprocessingDeltaRaw\n",
    "from datetime import datetime,timedelta,timezone\n",
    "today= datetime.now(tz=timezone.utc)\n",
    "print(f\"hoy {today}\")\n",
    "container_sink = \"raw\"\n",
    "filename= \"youtube_data/youtube_data\""
   ]
  },
  {
   "cell_type": "code",
   "execution_count": 28,
   "metadata": {},
   "outputs": [
    {
     "name": "stdout",
     "output_type": "stream",
     "text": [
      "abfs://sadatalakeproyecto.dfs.core.windows.net/raw/youtube_data/youtube_data_2024\n"
     ]
    }
   ],
   "source": [
    "use_case_delta_raw = DataPreprocessingDeltaRaw(bs_reader, dl_loader,dl_reader)  \n",
    "use_case_delta_raw.execute(\"source_blob\", \n",
    "                           destination=container_sink,\n",
    "                           filename=filename,\n",
    "                           delta_hour=today.hour,\n",
    "                           delta_day=1)"
   ]
  },
  {
   "cell_type": "markdown",
   "metadata": {},
   "source": [
    "# test caso de uso raw to curated"
   ]
  },
  {
   "cell_type": "code",
   "execution_count": 3,
   "metadata": {},
   "outputs": [],
   "source": [
    "import os\n",
    "from dotenv import load_dotenv\n",
    "load_dotenv()\n",
    "connection_string = os.environ.get('DATALAKE_CONNECTION_STRING')"
   ]
  },
  {
   "cell_type": "code",
   "execution_count": 29,
   "metadata": {},
   "outputs": [
    {
     "name": "stdout",
     "output_type": "stream",
     "text": [
      "hoy 2024-04-23 12:52:44.733768\n"
     ]
    },
    {
     "data": {
      "text/plain": [
       "datetime.datetime(2024, 4, 8, 0, 0, 0, 733768)"
      ]
     },
     "execution_count": 29,
     "metadata": {},
     "output_type": "execute_result"
    }
   ],
   "source": [
    "from datetime import datetime,timedelta,timezone\n",
    "\n",
    "today= datetime.now()\n",
    "print(f\"hoy {today}\")\n",
    "delta_day = timedelta(days=15)\n",
    "delta_hour = timedelta(hours=today.hour)+timedelta(minutes=today.minute)+timedelta(seconds=today.second)\n",
    "delta_date = today-delta_day-delta_hour\n",
    "delta_date"
   ]
  },
  {
   "cell_type": "code",
   "execution_count": 1,
   "metadata": {},
   "outputs": [],
   "source": [
    "from app.use_cases.data_preprocessing_curated import DataPreprocessingCurated \n",
    "from external.data_lake_pandas import DataLakePandas\n",
    "from external.data_lake_storage import DataLakeStorage\n",
    "from app.repositories.pandas_loader import DataLakeLoader\n",
    "from app.repositories.pandas_reader import DataLakeReader\n"
   ]
  },
  {
   "cell_type": "code",
   "execution_count": 2,
   "metadata": {},
   "outputs": [],
   "source": [
    "dl_pandas = DataLakePandas()\n",
    "dl_storage = DataLakeStorage(\"raw\")\n",
    "dl_reader = DataLakeReader(dl_pandas,dl_storage)\n",
    "dl_loader = DataLakeLoader(dl_pandas)\n",
    "use_case_curated = DataPreprocessingCurated(dl_reader,dl_loader)"
   ]
  },
  {
   "cell_type": "markdown",
   "metadata": {},
   "source": [
    "carga full"
   ]
  },
  {
   "cell_type": "code",
   "execution_count": 32,
   "metadata": {},
   "outputs": [
    {
     "name": "stdout",
     "output_type": "stream",
     "text": [
      "youtube_data/youtube_data_2014\n",
      "youtube_data/youtube_data_2019\n",
      "youtube_data/youtube_data_2020\n",
      "youtube_data/youtube_data_2021\n",
      "youtube_data/youtube_data_2022\n",
      "youtube_data/youtube_data_2023\n",
      "youtube_data/youtube_data_2024\n",
      "abfs://sadatalakeproyecto.dfs.core.windows.net/curated/youtube_data_2014\n",
      "abfs://sadatalakeproyecto.dfs.core.windows.net/curated/youtube_data_2019\n",
      "abfs://sadatalakeproyecto.dfs.core.windows.net/curated/youtube_data_2020\n",
      "abfs://sadatalakeproyecto.dfs.core.windows.net/curated/youtube_data_2021\n",
      "abfs://sadatalakeproyecto.dfs.core.windows.net/curated/youtube_data_2022\n",
      "abfs://sadatalakeproyecto.dfs.core.windows.net/curated/youtube_data_2023\n",
      "abfs://sadatalakeproyecto.dfs.core.windows.net/curated/youtube_data_2024\n"
     ]
    }
   ],
   "source": [
    "container_source = \"raw\"\n",
    "container_sink = \"curated\"\n",
    "filename= \"youtube_data\"\n",
    "filter = None\n",
    "use_case_curated.execute(container_source, container_sink,filename, filter)"
   ]
  },
  {
   "cell_type": "markdown",
   "metadata": {},
   "source": [
    "carga delta\n"
   ]
  },
  {
   "cell_type": "code",
   "execution_count": 3,
   "metadata": {},
   "outputs": [],
   "source": [
    "from datetime import datetime\n",
    "from app.use_cases.data_prep_delta_curated import DataPreprocessingDeltaCurated #\n",
    "\n",
    "use_case_delta_curated = DataPreprocessingDeltaCurated(dl_reader,dl_loader)"
   ]
  },
  {
   "cell_type": "code",
   "execution_count": 4,
   "metadata": {},
   "outputs": [
    {
     "data": {
      "text/plain": [
       "'2024-04-23'"
      ]
     },
     "execution_count": 4,
     "metadata": {},
     "output_type": "execute_result"
    }
   ],
   "source": [
    "filter_date = datetime.now().strftime('%Y-%m-%d')\n",
    "filter_date"
   ]
  },
  {
   "cell_type": "code",
   "execution_count": 6,
   "metadata": {},
   "outputs": [
    {
     "name": "stdout",
     "output_type": "stream",
     "text": [
      "hoy 2024-04-23 13:08:06.986944\n",
      "abfs://sadatalakeproyecto.dfs.core.windows.net/curated/youtube_data/youtube_data_2014\n",
      "abfs://sadatalakeproyecto.dfs.core.windows.net/curated/youtube_data/youtube_data_2019\n",
      "abfs://sadatalakeproyecto.dfs.core.windows.net/curated/youtube_data/youtube_data_2020\n",
      "abfs://sadatalakeproyecto.dfs.core.windows.net/curated/youtube_data/youtube_data_2021\n",
      "abfs://sadatalakeproyecto.dfs.core.windows.net/curated/youtube_data/youtube_data_2022\n",
      "abfs://sadatalakeproyecto.dfs.core.windows.net/curated/youtube_data/youtube_data_2023\n",
      "abfs://sadatalakeproyecto.dfs.core.windows.net/curated/youtube_data/youtube_data_2024\n"
     ]
    }
   ],
   "source": [
    "container_source = \"raw\"\n",
    "container_sink = \"curated\"\n",
    "filename= \"youtube_data\"\n",
    "filter = None\n",
    "#filter = [(\"publish_date\", \">=\", filter_date)]\n",
    "use_case_delta_curated.execute(container_source, container_sink,filename,1,0, filter)"
   ]
  },
  {
   "cell_type": "markdown",
   "metadata": {},
   "source": [
    "etl full"
   ]
  },
  {
   "cell_type": "code",
   "execution_count": 1,
   "metadata": {},
   "outputs": [
    {
     "name": "stdout",
     "output_type": "stream",
     "text": [
      "leer datos\n",
      "procesar data\n",
      "cargar data\n",
      "[2024 2023 2022 2021 2020 2019 2014]\n",
      "abfs://sadatalakeproyecto.dfs.core.windows.net/raw/youtube_data/youtube_data_2024\n",
      "abfs://sadatalakeproyecto.dfs.core.windows.net/raw/youtube_data/youtube_data_2023\n",
      "abfs://sadatalakeproyecto.dfs.core.windows.net/raw/youtube_data/youtube_data_2022\n",
      "abfs://sadatalakeproyecto.dfs.core.windows.net/raw/youtube_data/youtube_data_2021\n",
      "abfs://sadatalakeproyecto.dfs.core.windows.net/raw/youtube_data/youtube_data_2020\n",
      "abfs://sadatalakeproyecto.dfs.core.windows.net/raw/youtube_data/youtube_data_2019\n",
      "abfs://sadatalakeproyecto.dfs.core.windows.net/raw/youtube_data/youtube_data_2014\n",
      "youtube_data/youtube_data_2014\n",
      "youtube_data/youtube_data_2019\n",
      "youtube_data/youtube_data_2020\n",
      "youtube_data/youtube_data_2021\n",
      "youtube_data/youtube_data_2022\n",
      "youtube_data/youtube_data_2023\n",
      "youtube_data/youtube_data_2024\n",
      "[2014 2019 2020 2021 2022 2023 2024]\n",
      "abfs://sadatalakeproyecto.dfs.core.windows.net/curated/youtube_data/youtube_data_2014\n",
      "abfs://sadatalakeproyecto.dfs.core.windows.net/curated/youtube_data/youtube_data_2019\n",
      "abfs://sadatalakeproyecto.dfs.core.windows.net/curated/youtube_data/youtube_data_2020\n",
      "abfs://sadatalakeproyecto.dfs.core.windows.net/curated/youtube_data/youtube_data_2021\n",
      "abfs://sadatalakeproyecto.dfs.core.windows.net/curated/youtube_data/youtube_data_2022\n",
      "abfs://sadatalakeproyecto.dfs.core.windows.net/curated/youtube_data/youtube_data_2023\n",
      "abfs://sadatalakeproyecto.dfs.core.windows.net/curated/youtube_data/youtube_data_2024\n"
     ]
    },
    {
     "ename": "",
     "evalue": "",
     "output_type": "error",
     "traceback": [
      "\u001b[1;31mThe Kernel crashed while executing code in the current cell or a previous cell. \n",
      "\u001b[1;31mPlease review the code in the cell(s) to identify a possible cause of the failure. \n",
      "\u001b[1;31mClick <a href='https://aka.ms/vscodeJupyterKernelCrash'>here</a> for more info. \n",
      "\u001b[1;31mView Jupyter <a href='command:jupyter.viewOutput'>log</a> for further details."
     ]
    }
   ],
   "source": [
    "import azure.functions as func\n",
    "import logging\n",
    "from datetime import datetime\n",
    "import os\n",
    "import io\n",
    "\n",
    "from external.blob_storage import BlobStorage\n",
    "from external.data_lake_pandas import DataLakePandas\n",
    "from external.data_lake_storage import DataLakeStorage\n",
    "\n",
    "from app.repositories.pandas_loader import DataLakeLoader\n",
    "from app.repositories.blob_storage_reader import BlobStorageReader\n",
    "from app.repositories.pandas_reader import DataLakeReader\n",
    "\n",
    "from app.use_cases.data_preprocessing_curated import DataPreprocessingCurated\n",
    "from app.use_cases.data_preprocessing_raw import DataPreprocessingRaw \n",
    "\n",
    "from dotenv import load_dotenv\n",
    "load_dotenv()\n",
    "\n",
    "\n",
    "import azure.functions as func\n",
    "import logging\n",
    "\n",
    "bp2 = func.Blueprint()\n",
    "\n",
    "container_name = \"landing\"\n",
    "blob_storage = BlobStorage(container_name)\n",
    "bs_reader = BlobStorageReader(blob_storage)\n",
    "dl_pandas = DataLakePandas()\n",
    "dl_loader = DataLakeLoader(dl_pandas)\n",
    "\n",
    "dl_storage = DataLakeStorage(\"raw\")\n",
    "dl_reader = DataLakeReader(dl_pandas,dl_storage)\n",
    "\n",
    "use_case_full_raw = DataPreprocessingRaw(bs_reader, dl_loader)  \n",
    "\n",
    "use_case_full_curated = DataPreprocessingCurated(dl_reader, dl_loader)  \n",
    "\n",
    "\n",
    "try:\n",
    "    timestamp = datetime.now()\n",
    "    filter_date = timestamp.strftime('%Y-%m-%d')\n",
    "    \n",
    "    container_source = \"landing\"\n",
    "    container_sink = \"raw\"\n",
    "    filename= \"youtube_data\"\n",
    "    use_case_full_raw.execute(container_source, \n",
    "                            container_sink,\n",
    "                            filename\n",
    "                            )\n",
    "    logging.info('external to raw')\n",
    "    container_source = \"raw\"\n",
    "    container_sink = \"curated\"\n",
    "    filename= \"youtube_data\"\n",
    "    filter = None\n",
    "    #filter = [(\"publish_date\", \">=\", filter_date)]\n",
    "    use_case_full_curated.execute(container_source, container_sink,filename, filter)\n",
    "    logging.info('raw to curated')\n",
    "    msn= 'etl full load function ran at %s'\n",
    "except Exception as e:\n",
    "    msn = 'Error ejecutando la etl at %s'\n",
    "    logging.info(msn)\n",
    "    print(msn)\n",
    "\n"
   ]
  },
  {
   "cell_type": "markdown",
   "metadata": {},
   "source": [
    "### etl delta"
   ]
  },
  {
   "cell_type": "code",
   "execution_count": 9,
   "metadata": {},
   "outputs": [
    {
     "name": "stdout",
     "output_type": "stream",
     "text": [
      "[2024]\n",
      "abfs://sadatalakeproyecto.dfs.core.windows.net/raw/youtube_data/youtube_data/youtube_data/youtube_data_2024\n",
      "external to raw\n",
      "hoy 2024-04-24 14:59:06.205497\n",
      "[2024 2014 2019 2020 2021 2022 2023]\n",
      "abfs://sadatalakeproyecto.dfs.core.windows.net/curated/youtube_data/youtube_data/youtube_data/youtube_data_2024\n",
      "abfs://sadatalakeproyecto.dfs.core.windows.net/curated/youtube_data/youtube_data/youtube_data/youtube_data_2014\n",
      "abfs://sadatalakeproyecto.dfs.core.windows.net/curated/youtube_data/youtube_data/youtube_data/youtube_data_2019\n",
      "abfs://sadatalakeproyecto.dfs.core.windows.net/curated/youtube_data/youtube_data/youtube_data/youtube_data_2020\n",
      "abfs://sadatalakeproyecto.dfs.core.windows.net/curated/youtube_data/youtube_data/youtube_data/youtube_data_2021\n",
      "abfs://sadatalakeproyecto.dfs.core.windows.net/curated/youtube_data/youtube_data/youtube_data/youtube_data_2022\n",
      "abfs://sadatalakeproyecto.dfs.core.windows.net/curated/youtube_data/youtube_data/youtube_data/youtube_data_2023\n",
      "raw to curated\n"
     ]
    }
   ],
   "source": [
    "import azure.functions as func\n",
    "import logging\n",
    "from datetime import datetime\n",
    "import os\n",
    "\n",
    "from external.blob_storage import BlobStorage\n",
    "from external.data_lake_pandas import DataLakePandas\n",
    "from external.data_lake_storage import DataLakeStorage\n",
    "\n",
    "from app.repositories.pandas_loader import DataLakeLoader\n",
    "from app.repositories.blob_storage_reader import BlobStorageReader\n",
    "from app.repositories.pandas_reader import DataLakeReader\n",
    "\n",
    "from app.use_cases.data_prep_delta_curated import DataPreprocessingDeltaCurated\n",
    "from app.use_cases.data_prep_delta_raw import DataPreprocessingDeltaRaw \n",
    "\n",
    "from dotenv import load_dotenv\n",
    "load_dotenv()\n",
    "\n",
    "\n",
    "DELTA_DAYS = os.environ.get('DELTA_DAYS')\n",
    "DELTA_HOURS = os.environ.get('DELTA_HOURS')\n",
    "SCHEDULE = os.environ.get('CRON_SCHEDULE')\n",
    "\n",
    "bp1 = func.Blueprint()\n",
    "container_name = \"landing\"\n",
    "blob_storage = BlobStorage(container_name)\n",
    "bs_reader = BlobStorageReader(blob_storage)\n",
    "dl_pandas = DataLakePandas()\n",
    "dl_loader = DataLakeLoader(dl_pandas)\n",
    "\n",
    "dl_storage = DataLakeStorage(\"raw\")\n",
    "dl_reader = DataLakeReader(dl_pandas,dl_storage)\n",
    "\n",
    "use_case_delta_raw = DataPreprocessingDeltaRaw(bs_reader, dl_loader, dl_reader)  \n",
    "\n",
    "use_case_delta_curated = DataPreprocessingDeltaCurated(dl_reader, dl_loader)  \n",
    "\n",
    "\n",
    "timestamp = datetime.now()\n",
    "filter_date = timestamp.strftime('%Y-%m-%d')\n",
    "try:\n",
    "    container_source = \"landing\"\n",
    "    container_sink = \"raw\"\n",
    "    filename= \"youtube_data/youtube_data\"\n",
    "    filter = None\n",
    "    delta_day= int(DELTA_DAYS)\n",
    "    delta_hour= int(DELTA_HOURS)\n",
    "    use_case_delta_raw.execute(container_source, \n",
    "                            container_sink,\n",
    "                            filename,\n",
    "                            delta_day=delta_day,\n",
    "                            delta_hour= delta_hour\n",
    "                            )\n",
    "    logging.info('external to raw')\n",
    "    print('external to raw')\n",
    "    container_source = \"raw\"\n",
    "    container_sink = \"curated\"\n",
    "    filename= \"youtube_data\"\n",
    "    filter = None\n",
    "    #filter = [(\"publish_date\", \">=\", filter_date)]\n",
    "    use_case_delta_curated.execute(container_source, container_sink,filename,delta_day,delta_hour, filter)\n",
    "    logging.info('raw to curated')\n",
    "    print('raw to curated')\n",
    "except Exception as e:\n",
    "    msn = f'Error {e} , ejecutando la etl'\n",
    "    logging.info(msn)\n",
    "    print(msn)\n"
   ]
  },
  {
   "cell_type": "markdown",
   "metadata": {},
   "source": [
    "## embedding"
   ]
  },
  {
   "cell_type": "code",
   "execution_count": 173,
   "metadata": {},
   "outputs": [],
   "source": [
    "import os\n",
    "EMBEDDING_DEPLOYMENT = os.environ[\"AZURE_EMBEDDING_DEPLOYMENT\"] \n",
    "index_name = \"video-transcription-index\""
   ]
  },
  {
   "cell_type": "code",
   "execution_count": 174,
   "metadata": {},
   "outputs": [],
   "source": [
    "import os\n",
    "from langchain_openai import AzureOpenAIEmbeddings\n",
    "from dotenv import load_dotenv\n",
    "#from pinecone import Pinecone\n",
    "#from langchain.vectorstores import Pinecone\n",
    "from langchain_pinecone import PineconeVectorStore"
   ]
  },
  {
   "cell_type": "code",
   "execution_count": 175,
   "metadata": {},
   "outputs": [],
   "source": [
    "embedding = AzureOpenAIEmbeddings(azure_deployment=EMBEDDING_DEPLOYMENT)\n",
    "vectordb = PineconeVectorStore(index_name=index_name,embedding=embedding)"
   ]
  },
  {
   "cell_type": "code",
   "execution_count": 179,
   "metadata": {},
   "outputs": [
    {
     "name": "stdout",
     "output_type": "stream",
     "text": [
      "\n",
      "## Document 0\n",
      "\n",
      "bitcoin: listo para comprar? | btc | cryptos | etf | eth. sigo comprando sigo comprando sigo comprando yo sigo comprando pa pa pa pa oh ya estamos en vivo hola mis amigos cómo les va les saluda gre quiroga noticias noticias ojo 320 millones de dólares liquidados entre ayer y hoy de los cuales raramente casi 300 millones en long por qué no sé eh otra noticia muy importante sigue vendiendo grayscale otra noticia muy importante sigue habiendo compras otra noticia importante rara rara noticia pero veo que los países se están armando de bitcoin ayer hablaba alguien me informaba de que estados unidos compró unos bitcoins en enero olvidemos el día pero compró como 170,000 o le aparecieron no bueno a china también le aparecieron ahora yo no sé si los tenía antes pero en un update de los tesoros de bitcoin le aparecieron a china 250,000 bitcoins creo que sí y a venezuela le aparecieron otro poquito y a bhután le aparecieron otro poquito de bitcoins los países están acumulando bitcoin además de obviamente el salvador y obviamente de ucrania quienes hace rato los tenemos en el el mapa mis amigos les saluda greg kiroga cómo les va bienvenidos una vez más a cripto noticias por favor regálenme su like cuando usted desee por qué porque hoy hay miedo total en el mercado verdad bitcoin sigue teniendo fuerza para abajo yes is true sigue teniendo fuerza para abajo y usted lo ve aquí verdad ahí ve usted la fuerza en el mcd para abajo verdad o sea la la posibilidad de que siga cayendo está ahí vamos a empezar a despejar cosas mis amigos como cuáles liquidaciones de bitcoin why i don't know why miren 298 millones en long yo ayer les decía en la tarde en un streaming en la tarde que yo les decía yo agarré bitcoin en el gráfico de 15 minutos dio un rebotica qué parcial y stop loss a precio de entrada y este era mi publicación ayer en la tarde el video de la tarde después del video les publicaba esto que era que yo ya saqué parcial y estop los a precio de entrada verdad y les\n",
      "\n",
      "## Document 1\n",
      "\n",
      "o okay para leerlos a ver y saco el lápiz aquí un momento y ahora sí vamos ya puse neutro listo perfecto eh aquí vengo a benjamín méndez dice profe a través de un broker puede comprar yo compré okay benjamín eh díganme qué broker díganos qué broker benja regl regálenos la información a cómo compró benja compró alto asumo verdad eh la idea no es meternos ahí del todo la idea nuestra es bitcoin en spot verdad pero a ver a ver qué pasa a ver ahora que está barato uno nunca sabe iván blaz dice avise si es que encuentra dónde comprar el etf profe ahí benjamín méndez que nos pasa la información dice vengo del mercado tradicional okay benja e gracias por el dato alfredo dice black rock tiene 11 11.500 btc y quiere mi fracción claro papá va por los tres suyos alfredo óscar dice grande profe abrazo manu santos dice en cadis lluvia y bueno aquí para meter más a bitcoin está bien manu cómo va ese carnaval me imagino que yaa borracheras por día no e sí mis amigos vamos a mirar la posibilidad ahí benjamín dice que él viene el mercado tradicional y ya hizo su comprita uno no sabe o sea son $ yo le voy a meter $ ahí que me voy a olvidar de ellos y qué le pasó ho a mi cabello loco qué pasó me cayó nieve o qué vaina loco lord dice desde la ventana no se ve hacia dónde están las anguilas no ahora les mando una foto por por twitter les publico las anguilas ahí ahora en smart choice corporation dice greg podría abrir una cuenta a nombre de la compañía en el exchange que tú utilizas preguntas eh no sé porque le van a pedir que haga el kyc o sea las autenticaciones y para tal fin vas a tener que mostrar tu número de documento tu licencia de manejar cómo es que le llaman dni en algunos países listo chelo el grande lord david dice saludos profe aquí conectándome un poco tarde pero presente saludos a pce dice profe cómo puedo transferir dólares del banco a mi cartera pues tien que tener\n",
      "\n",
      "## Document 2\n",
      "\n",
      "ido en el mundo cripto el negocio de coinbase irá mejor además de eso coinbase tiene bitcoins y otras criptomonedas en posesión y es la herramienta que muchos fondos de inversión como black rock utilizan para comprar los bitcoins con los que aseguran el valor de sus etfs otra manera de invertir en bitcoin es invirtiendo en acciones de microstrategy una empresa cuyo negocio principal es la consultoría tecnológica sin embargo la empresa posee a fecha de ición de este vídeo 205,000 bitcoins comprados por un total de 6910 millones de dólares con un promedio de 33706 por cada bitcoin incluyendo comisiones y gastos así que la empresa está ganando un auténtico dineral con esta subida de bitcoin esto ha provocado que el precio de su acción y el precio del bitcoin estén muy pero que muy correlacionados otra manera de invertir en bitcoin es invirtiendo en empresas que se dediquen a la minería de este un ejemplo de esto puede ser riot blockchain una de las mayores empresas de minería de criptomonedas en estados unidos otra opción es marathon digital holdings la cual se dedica a la minería de criptomonedas con un enfoque particular en bitcoin no obstante es posible que estés más interesado o interesada en estar expuesto a bitcoin de una manera mucho menos directa vamos que igual prefiere ser aquel que en la fiebre del oro no vendía el propio oro sino ser el que vendía picos y palas pues bien eso es posible una forma de hacerlo es invertir en envidia la cual es bien conocida por sus tarjetas gráficas que son esenciales para la minería de criptomonedas aunque como hemos dicho antes la relación de envidia con el criptomercado no es directa la demanda de sus tarjetas gráficas sí que se ha visto significativamente impulsada por los mineros de criptomonedas especialmente durante los picos del mercado que es cuando más rentable es minar bitcoin y bueno hasta aquí el vídeo de hoy espero que hayas aprendido algo y que te sirva este vídeo y recuerda que debajo en la descripción tienes una guía gratis para aprender a comprar etfs de bitcoin por lo demás un saludo y hasta la próxima\n",
      "\n",
      "## Document 3\n",
      "\n",
      "strófico para el precio de bitcoin buenísimo para los que no tenemos bitcoin que vendimos buenísimo para todos ustedes que quienes no tienen bitcoin por eso es que algunos holders me odian pero no entienden esto que yo vengo diciendo desde hace meses que les mostré esta mañana que podría caer a 8000 que lo dije hace 8 meses pero buenísimo sería tener la posibilidad de comprar un bitcoin en 12000 o medio bitcoin o conseguir eum a 300 wow o conseguir a 10 centavos wow o conseguir san a 10 centavos ese es el momento de acumular mis amigos ese sería el momento de acumular porque a 10 centavos eh $100 si no me falla la vista son 1000 criptomonedas de la que a usted le gusta 10 centavos que no sé habrá algunas a 10 centavos ya o terminarán a 10 centavos ese si es el momento de acumular y usted sabe que son $100 que echó ahí al olvido en una moneda que valga la pena ojo con eso en una cripto que valga la pena para qué para dejarla durmiendo ahí un año o dos años porque imaginen por ejemplo san que en su momento llegó a $ 8 si no me falla la memoria imagine poder comprar san a 10 centavos en algún momento va a buscar ese máximo y si alcanzamos a tener 1000 monedas de san es un ejemplo san no ojo no es que no es que la adore ni esté casado con ella ni la estoy promoviendo no me pagan por eso en el momento en que suba a buscar su máximo anterior si usted tiene 1000 monedas que le costaron a $ perdón a a 10 centavos usted va a tener 8000 dlares si espera un año y si solo se gastó $100 espere un año olvídese de eso pero eso sí en criptos buenas que ustedes vean que van a sobrevivir esta debacle que estamos viviendo ojo con eso muy importante no olvídense con todo respeto para los que le gustan los proyectos medio fantasmales los que desaparecen y aparecen olvídense de esos busquen criptos que sean buenos proyectos\n"
     ]
    }
   ],
   "source": [
    "retriever = vectordb.as_retriever(search_type=\"mmr\")\n",
    "matched_docs = retriever.get_relevant_documents(query)\n",
    "for i, d in enumerate(matched_docs):\n",
    "    print(f\"\\n## Document {i}\\n\")\n",
    "    print(d.page_content)"
   ]
  },
  {
   "cell_type": "code",
   "execution_count": 181,
   "metadata": {},
   "outputs": [],
   "source": [
    "from external.lang_chain_manager import LangChainManager"
   ]
  },
  {
   "cell_type": "code",
   "execution_count": 182,
   "metadata": {},
   "outputs": [],
   "source": [
    "chain_manager = LangChainManager()"
   ]
  },
  {
   "cell_type": "code",
   "execution_count": 189,
   "metadata": {},
   "outputs": [
    {
     "data": {
      "text/plain": [
       "'2024-04-16'"
      ]
     },
     "execution_count": 189,
     "metadata": {},
     "output_type": "execute_result"
    }
   ],
   "source": [
    "index_name = \"video-transcription-index\"\n",
    "query = \"esta bien comprar bitcoin ?\"\n",
    "today = datetime.now().strftime('%Y-%m-%d')\n",
    "today"
   ]
  },
  {
   "cell_type": "code",
   "execution_count": 190,
   "metadata": {},
   "outputs": [
    {
     "data": {
      "text/plain": [
       "[Document(page_content='iodía compré como 120 más yo voy dándole yo voy dándole poco a poco mi plan cuál es vean mi plan vean cómo yo clarifico mi mi mis metas mis metas es antes de que termine la onda 4 tener entre medio y un bitcoin más entre medio y un bitcoin más antes de que termine la onda 4 o cuando termine verdad porque yo en onda 5 ya no compro nada más y ya llevo según lo que he visto en este en estos exchange donde acumulo que ustedes lo pueden chequear todos los días eh ya llevo como 008 por ahí más o menos ya estoy completando 010 y apenas está empezando este retroceso o rango verdad entonces las cosas van como bien eh daniel jaramillo dice nos vamos a cero coquetín dice esto es eh momentáneo eh césar sánchez dice se viene otra impresión de dólares a lo bruto edwin web dice profe israel ya confirmó eh contraatacar el contragolpe dijeron que estaban preparados y parece que es inevitable yo le dije que era escorpión deco martínez dice momento de incertidumbre con este conflicto entre tal y tal tengo un chequecito para julio y compraré al precio en el que esté aunque todo se alía para la caída povin o sea es sería su mejor momento deco martínez fernando giraldo dice greg y qué tiene que ver puma en todo esto ah pues es mi patrocinador uno de mis patrocinadores hernán no joda el frío hernán está soleado pero hace frong gongo frong gongo hace real dice hoy día creo que hay muchas formas de apoyar tal eh crisan morales dice esta caída debe aprovecharse una gran oportunidad en serio yo tengo mi meta mi meta es seguir comprando otra vez al precio que esté 20 30 50 100 que tenga 20 100 todos los días hello todos los días seguir comprando todos los días lo que tenga y así fue que conseguí eso que les muestro y el otro poquito que tengo allá debajo del colchón listo eh cón dice profesor coin base wallet se considera una billetera fría eh es que no la he usado no', metadata={'chanel_name': 'USACRYPTONOTICIAS', 'duration': 3630.0, 'last_update_date': '2024-04-16', 'publish_date': '2024-04-15', 'source': 'https://www.youtube.com/watch?v=aoaXmj6ZFok', 'title': 'bitcoin: sigue complicado | crypto | btc', 'video_id': 'aoaXmj6ZFok'}),\n",
       " Document(page_content='olpe sí para llamarlo para que más o menos me entiendan que están preparados para el contragolpe sebas dice soy inversionista nuevo ante este suceso debería mantener mi dinero en bitcoin o vender seb no di consejos de inversión yo lo único que le puedo decir a mi comunidad como usted es nuevo le repito lo que le repito a mi comunidad nosotros venimos comprando desde los 24 y con un plan a diciembre del 2024 y cada vez que baja compramos más ahora ustedes son libres de vender o de seguir comprando o de no comprar y lo que ustedes quieran mi amigo coquetín dice profe podría ver hasta dónde puede b eum ah espérate que se me fue la pantalla qué pasó aquí etherium pero es que yo no sé sium también tiene un un qué un triángulo pero espérate lo miro aquí a ver pero es no está tan diferente coquetín no está tan diferente miren no le pongan precio a la bajada cuando hablo de que no le pongan precio a la bajada yo les pregunto a ustedes por qué le quieren poner precio a la bajada si cuando lo hemos visto que llega a la parte de abajo del rsi reacciona para arriba esperen a que llegue a la parte de abajo del rsi en el gráfico diario no está tan lejos tampoco eh nuestro amigo etherium miren tiene altas posibilidades etherium y bitcoin de ir a la parte baja del rsi esa sería la entrada m alguien cuál es el mejor punto de entrada pues la parte de abajo del rdci eso con eum y eso con bitcoin ya ahora si va a ir o no va a ir es otro asunto pero eso sería el asunto verdad eso sería el tema por ir a verum se me perdió el triángulo loco si ve culpa suya j anónimos a ver eh rubén pérez dice profe tengo un 25% y voy a seguir comprando yo también yo esta mañana compré cuánto como al mediodía compré como 120 más yo voy dándole yo voy dándole poco a poco mi plan cuál es vean mi plan vean cómo yo clarifico mi mi mis metas mis metas es antes de que term', metadata={'chanel_name': 'USACRYPTONOTICIAS', 'duration': 3630.0, 'last_update_date': '2024-04-16', 'publish_date': '2024-04-15', 'source': 'https://www.youtube.com/watch?v=aoaXmj6ZFok', 'title': 'bitcoin: sigue complicado | crypto | btc', 'video_id': 'aoaXmj6ZFok'}),\n",
       " Document(page_content='so en acumular hasta abajo eso es lo que yo pienso esa ganancia no me la quita nadie quo cristian morales eduardo dice doble suelo en 4 horas sí eduardo hasta el momento sí pero tiene fuerza para abajo domínguez dice profe criptomonedas tan cree que tendrán un buen crecimiento después del halvin puede que arranquen verdad podría ser que arranquen pero yo no le invertiría ninguna solo invertiría bitcoin y aium yo porque ya tengo un poquito de trx y ya tengo un poquito de de de xrp pero de resto solo le le invertiría bitcoin ethereum y eso porque itum le aprobaron el etf en china rubén pérez dice profe saludos comprar en 60,000 yo compré qué días en 60,000 el sábado aquí abajito compré yo todas esas oportunidades las tengo que aprovechar yo compré aquí ahí ahí activé una compra deco martínez dice buenas profe gráfico mensual hay que soporten los 59 y 58 no vean si van a mirar el gráfico mensual y van a buscar soportes se van a enloquecer porque el gráfico mensual sigue bien alcista bien alcista nos están llevando vean todo esto que estoy leyendo ahora ratifica todo esto que estoy leyendo ahora ratifica lo que les vengo diciendo y apenas estamos empezando ya entraron ustedes en dudas que va a ir a los 40 que va a ir a los 50 miren yo les puedo decir una cosa una cosa miren lo que les puedo decir es una cosa si tienen capital divídelo pongan unos puntos objetivos los suyos no los míos porque yo funciono diferente y si ustedes ven que va llegando a ese punto que les active una orden de compra sí y así se quitan la el hoy sí mañana no y tal y para allí y para acá porque eso sí el retroceso es para comprarlo verdad el retroceso es para comprarlo no yo no holde josé maría xrp yo tengo un poquitico que es diferente eh leonel dice pura narrativa las ballenas son los que aprovechan de nuestras dudas exacto eso que dice leonel está muy bien feo pinta esto dice hernan', metadata={'chanel_name': 'USACRYPTONOTICIAS', 'duration': 3630.0, 'last_update_date': '2024-04-16', 'publish_date': '2024-04-15', 'source': 'https://www.youtube.com/watch?v=aoaXmj6ZFok', 'title': 'bitcoin: sigue complicado | crypto | btc', 'video_id': 'aoaXmj6ZFok'}),\n",
       " Document(page_content=' absorbido porque hay más demanda y el bitcoin es exactamente el mismo si bitco naciera por debajo de las piedras pues vaya y venga pero es que bitcoin es el mismo y hay más demanda uh empezó a correr bien brisa fría sí el que me decía esta mañana majam marata no sé cómo se llama me decía es que el oro está escaso y están consiguiendo oro de la historia de la humanidad el troyano dice greg eso va a ser que el rsi pero no se ve nada marchando en la marcado en la no se ve más marcado a ver voy a poner una rose s vean por ejemplo rune rune se los puse esta mañana verdad aquí está rune aquí me está el ejemplo porque por lo que me dice el troyano rune tiene el rs en la parte de abajo listo ahí está run es un sueño en este instante ahí pegado a la media de periodos rune está divino les dije esta mañana y así pueden estar muchas monedas en este instante la pregunta sincera para usted es le va a invertir sí le va a invertir o va a esperar a que aclare algo del conflicto ahora si usted está dispuesto a invertirla en spot pues tres pesitos que le meta no es mala idea verdad tres pero por lo menos debe tener el 90 de su dinero en bitcoin un 5% en itio en el otro 5% haga la fiesta black rock lanzó un etf de bitcoin en la bolsa de valores de brasil la adopción es imparable dice antonio leal entonces si es cierto lo que dice trollo hay cosas muy buenas ahí o sea estructuralmente hablando verdad muchas tienen el rs ahí abajo puede que arranquen puede que arranquen verdad el tema es es momento de inventir a otras cosas yo soy de colombia josé maría peña sí el tema es sí repito yo aquí está rune divino rune es un sueño de entrada rune es un sueño de entrada con el rs y abajo eh rangel dice profe cómo ve meter poquitos en memes de solana a mí no me gustan daniel pero es que lo que a mí me guste no tiene que ser lo que usted opere verdad no tiene que ser lo que usted opere', metadata={'chanel_name': 'USACRYPTONOTICIAS', 'duration': 3630.0, 'last_update_date': '2024-04-16', 'publish_date': '2024-04-15', 'source': 'https://www.youtube.com/watch?v=aoaXmj6ZFok', 'title': 'bitcoin: sigue complicado | crypto | btc', 'video_id': 'aoaXmj6ZFok'})]"
      ]
     },
     "execution_count": 190,
     "metadata": {},
     "output_type": "execute_result"
    }
   ],
   "source": [
    "chain_manager.document_search(index_name,query,metadata_filter= { \"publish_date\": '2024-04-15' })"
   ]
  }
 ],
 "metadata": {
  "kernelspec": {
   "display_name": ".venv",
   "language": "python",
   "name": "python3"
  },
  "language_info": {
   "codemirror_mode": {
    "name": "ipython",
    "version": 3
   },
   "file_extension": ".py",
   "mimetype": "text/x-python",
   "name": "python",
   "nbconvert_exporter": "python",
   "pygments_lexer": "ipython3",
   "version": "3.11.4"
  }
 },
 "nbformat": 4,
 "nbformat_minor": 2
}
