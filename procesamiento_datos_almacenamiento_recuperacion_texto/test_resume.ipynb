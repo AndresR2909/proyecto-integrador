{
 "cells": [
  {
   "cell_type": "code",
   "execution_count": 1,
   "metadata": {},
   "outputs": [],
   "source": [
    "#pip install azure-functions azure-functions-durable pandas azure-data-tables azure-storage-blob azure-functions python-dotenv langchain-openai langchain pinecone-client pyarrow adlfs fsspec langchain_pinecone azure-storage-file-datalake -q"
   ]
  },
  {
   "cell_type": "code",
   "execution_count": 2,
   "metadata": {},
   "outputs": [],
   "source": [
    "#pip freeze ->requirements.txt"
   ]
  },
  {
   "cell_type": "code",
   "execution_count": 3,
   "metadata": {},
   "outputs": [],
   "source": [
    "from datetime import datetime\n",
    "import os\n",
    "\n",
    "from external.blob_storage import BlobStorage\n",
    "from external.data_lake_pandas import DataLakePandas\n",
    "from external.data_lake_storage import DataLakeStorage\n",
    "\n",
    "from app.repositories.pandas_loader import DataLakeLoader\n",
    "from app.repositories.blob_storage_reader import BlobStorageReader\n",
    "from app.repositories.pandas_reader import DataLakeReader\n",
    "\n",
    "from app.use_cases.data_prep_delta_curated import DataPreprocessingDeltaCurated\n",
    "from app.use_cases.data_prep_delta_raw import DataPreprocessingDeltaRaw \n",
    "import logging\n",
    "from dotenv import load_dotenv\n",
    "load_dotenv()\n",
    "import pandas as pd"
   ]
  },
  {
   "cell_type": "code",
   "execution_count": 4,
   "metadata": {},
   "outputs": [],
   "source": [
    "DELTA_DAYS = os.environ.get('DELTA_DAYS')\n",
    "DELTA_HOURS = os.environ.get('DELTA_HOURS')\n",
    "SCHEDULE = os.environ.get('CRON_SCHEDULE')"
   ]
  },
  {
   "cell_type": "code",
   "execution_count": 5,
   "metadata": {},
   "outputs": [],
   "source": [
    "container_name = \"landing\"\n",
    "blob_storage = BlobStorage(container_name)\n",
    "bs_reader = BlobStorageReader(blob_storage)\n",
    "dl_pandas = DataLakePandas()\n",
    "dl_loader = DataLakeLoader(dl_pandas)"
   ]
  },
  {
   "cell_type": "code",
   "execution_count": 6,
   "metadata": {},
   "outputs": [],
   "source": [
    "dl_storage = DataLakeStorage(\"raw\")\n",
    "dl_reader = DataLakeReader(dl_pandas,dl_storage)\n",
    "\n",
    "use_case_delta_raw = DataPreprocessingDeltaRaw(bs_reader, dl_loader, dl_reader)  \n",
    "\n",
    "use_case_delta_curated = DataPreprocessingDeltaCurated(dl_reader, dl_loader)  "
   ]
  },
  {
   "cell_type": "code",
   "execution_count": 7,
   "metadata": {},
   "outputs": [
    {
     "name": "stdout",
     "output_type": "stream",
     "text": [
      "<class 'pandas.core.frame.DataFrame'>\n",
      "RangeIndex: 5 entries, 0 to 4\n",
      "Data columns (total 15 columns):\n",
      " #   Column            Non-Null Count  Dtype  \n",
      "---  ------            --------------  -----  \n",
      " 0   chanel_name       5 non-null      object \n",
      " 1   chanel_id         5 non-null      object \n",
      " 2   chanel_url        5 non-null      object \n",
      " 3   video_id          5 non-null      object \n",
      " 4   title             5 non-null      object \n",
      " 5   url               5 non-null      object \n",
      " 6   keywords          5 non-null      object \n",
      " 7   publish_date      5 non-null      object \n",
      " 8   relativeDateText  5 non-null      object \n",
      " 9   total_length      5 non-null      int64  \n",
      " 10  total_views       5 non-null      int64  \n",
      " 11  video_rating      0 non-null      float64\n",
      " 12  description       5 non-null      object \n",
      " 13  duration          5 non-null      int64  \n",
      " 14  caption_text_es   4 non-null      object \n",
      "dtypes: float64(1), int64(3), object(11)\n",
      "memory usage: 732.0+ bytes\n",
      "[2024]\n",
      "abfs://sadatalakeproyecto.dfs.core.windows.net/raw/data_from_youtube/data_from_youtube_2024\n",
      "external to raw\n",
      "hoy 2024-06-13 18:05:47.509898\n"
     ]
    },
    {
     "name": "stderr",
     "output_type": "stream",
     "text": [
      "c:\\Users\\felip\\Desktop\\2024\\MAESTRIA\\proyecto\\az-function-durable\\app\\use_cases\\data_prep_delta_curated.py:65: SettingWithCopyWarning: \n",
      "A value is trying to be set on a copy of a slice from a DataFrame.\n",
      "Try using .loc[row_indexer,col_indexer] = value instead\n",
      "\n",
      "See the caveats in the documentation: https://pandas.pydata.org/pandas-docs/stable/user_guide/indexing.html#returning-a-view-versus-a-copy\n",
      "  df_clean[\"caption_text_es\"] = df_clean[\"clean_title\"] + \". \" + df_clean[\"caption_text_es\"].fillna(' ')\n",
      "c:\\Users\\felip\\Desktop\\2024\\MAESTRIA\\proyecto\\az-function-durable\\app\\use_cases\\data_prep_delta_curated.py:66: SettingWithCopyWarning: \n",
      "A value is trying to be set on a copy of a slice from a DataFrame.\n",
      "Try using .loc[row_indexer,col_indexer] = value instead\n",
      "\n",
      "See the caveats in the documentation: https://pandas.pydata.org/pandas-docs/stable/user_guide/indexing.html#returning-a-view-versus-a-copy\n",
      "  df_clean['text']= df_clean[\"caption_text_es\"].apply(self._limpiar_texto)\n"
     ]
    },
    {
     "name": "stdout",
     "output_type": "stream",
     "text": [
      "[2024]\n",
      "abfs://sadatalakeproyecto.dfs.core.windows.net/curated/data_from_youtube/data_from_youtube_2024\n",
      "raw to curated\n"
     ]
    }
   ],
   "source": [
    "timestamp = datetime.now()\n",
    "filter_date = timestamp.strftime('%Y-%m-%d')\n",
    "try:\n",
    "    container_source = \"landing\"\n",
    "    container_sink = \"raw\"\n",
    "    filename= \"data_from_youtube\"\n",
    "    filter = None\n",
    "    delta_day= int(DELTA_DAYS)\n",
    "    delta_hour= int(DELTA_HOURS)\n",
    "    df_raw = use_case_delta_raw.execute(container_source, \n",
    "                            container_sink,\n",
    "                            filename,\n",
    "                            delta_day=delta_day,\n",
    "                            delta_hour= delta_hour\n",
    "                            )\n",
    "    logging.info('external to raw')\n",
    "    print('external to raw')\n",
    "    container_source = \"raw\"\n",
    "    container_sink = \"curated\"\n",
    "    filename= \"data_from_youtube\"\n",
    "    filter = None\n",
    "    df_curated = use_case_delta_curated.execute(container_source, \n",
    "                                                container_sink,\n",
    "                                                filename,\n",
    "                                                delta_day,\n",
    "                                                delta_hour, \n",
    "                                                filter)\n",
    "    logging.info('raw to curated')\n",
    "    print('raw to curated')\n",
    "except Exception as e:\n",
    "    msn = f'Error {e} , ejecutando la etl'\n",
    "    logging.info(msn)\n",
    "    print(msn)\n"
   ]
  },
  {
   "cell_type": "code",
   "execution_count": 8,
   "metadata": {},
   "outputs": [
    {
     "name": "stdout",
     "output_type": "stream",
     "text": [
      "<class 'pandas.core.frame.DataFrame'>\n",
      "Index: 164 entries, 0 to 195\n",
      "Data columns (total 9 columns):\n",
      " #   Column            Non-Null Count  Dtype \n",
      "---  ------            --------------  ----- \n",
      " 0   chanel_name       164 non-null    object\n",
      " 1   video_id          164 non-null    object\n",
      " 2   source            164 non-null    object\n",
      " 3   publish_date      164 non-null    object\n",
      " 4   duration          164 non-null    int64 \n",
      " 5   last_update_date  164 non-null    object\n",
      " 6   title             164 non-null    object\n",
      " 7   text              164 non-null    object\n",
      " 8   year              164 non-null    int64 \n",
      "dtypes: int64(2), object(7)\n",
      "memory usage: 12.8+ KB\n"
     ]
    }
   ],
   "source": [
    "df_curated.info()"
   ]
  },
  {
   "cell_type": "code",
   "execution_count": 9,
   "metadata": {},
   "outputs": [
    {
     "name": "stdout",
     "output_type": "stream",
     "text": [
      "<class 'pandas.core.frame.DataFrame'>\n",
      "Index: 4 entries, 192 to 195\n",
      "Data columns (total 9 columns):\n",
      " #   Column            Non-Null Count  Dtype \n",
      "---  ------            --------------  ----- \n",
      " 0   chanel_name       4 non-null      object\n",
      " 1   video_id          4 non-null      object\n",
      " 2   source            4 non-null      object\n",
      " 3   publish_date      4 non-null      object\n",
      " 4   duration          4 non-null      int64 \n",
      " 5   last_update_date  4 non-null      object\n",
      " 6   title             4 non-null      object\n",
      " 7   text              4 non-null      object\n",
      " 8   year              4 non-null      int64 \n",
      "dtypes: int64(2), object(7)\n",
      "memory usage: 320.0+ bytes\n"
     ]
    }
   ],
   "source": [
    "df_to_resume = df_curated[df_curated['last_update_date']==max(df_curated['last_update_date'])]\n",
    "df_to_resume.info()"
   ]
  },
  {
   "cell_type": "code",
   "execution_count": 10,
   "metadata": {},
   "outputs": [
    {
     "name": "stderr",
     "output_type": "stream",
     "text": [
      "c:\\Users\\felip\\Desktop\\2024\\MAESTRIA\\proyecto\\az-function-durable\\.venv\\Lib\\site-packages\\pinecone\\data\\index.py:1: TqdmWarning: IProgress not found. Please update jupyter and ipywidgets. See https://ipywidgets.readthedocs.io/en/stable/user_install.html\n",
      "  from tqdm.autonotebook import tqdm\n"
     ]
    }
   ],
   "source": [
    "from external.lang_chain_manager import LangChainManager\n",
    "from external.pinecone_vdb import PineconeVectorDB\n",
    "from app.repositories.pinecone_vdb_loader import PinceconeVDBRepository"
   ]
  },
  {
   "cell_type": "code",
   "execution_count": 11,
   "metadata": {},
   "outputs": [],
   "source": [
    "langchain_manager = LangChainManager()\n",
    "pinecone_vdb = PineconeVectorDB()\n",
    "vdb_repository= PinceconeVDBRepository(pinecone_vdb,langchain_manager)"
   ]
  },
  {
   "cell_type": "code",
   "execution_count": 12,
   "metadata": {},
   "outputs": [],
   "source": [
    "id_column=\"video_id\"\n",
    "chunk_size=250\n",
    "chunk_overlap=0"
   ]
  },
  {
   "cell_type": "code",
   "execution_count": 13,
   "metadata": {},
   "outputs": [
    {
     "data": {
      "text/plain": [
       "4"
      ]
     },
     "execution_count": 13,
     "metadata": {},
     "output_type": "execute_result"
    }
   ],
   "source": [
    "#crear documentos \n",
    "docs=vdb_repository.create_documents_from_df(df_to_resume)\n",
    "len(docs)"
   ]
  },
  {
   "cell_type": "code",
   "execution_count": 14,
   "metadata": {},
   "outputs": [
    {
     "data": {
      "text/plain": [
       "49"
      ]
     },
     "execution_count": 14,
     "metadata": {},
     "output_type": "execute_result"
    }
   ],
   "source": [
    "#dividir documentos\n",
    "splitted_docs=vdb_repository.split_documents(docs,chunk_size,chunk_overlap)\n",
    "len(splitted_docs)"
   ]
  },
  {
   "cell_type": "code",
   "execution_count": 15,
   "metadata": {},
   "outputs": [],
   "source": [
    "#agregar ids y metadata de particion a documentos\n",
    "preprocess_docs,ids = vdb_repository.create_ids_documents(splitted_docs,id_column=id_column)"
   ]
  },
  {
   "cell_type": "code",
   "execution_count": 16,
   "metadata": {},
   "outputs": [
    {
     "data": {
      "text/plain": [
       "'qué dijo la fed y el mapa de puntos para bajada de tasas y actualización de bolsas. saludos cordiales bienvenido a bolsas hoy muy buenos días a todos jueves 13 de junio 8:20 de la mañana vamos a en unos minutitos a hacer un análisis de situación de las bolsas hasta que abra wall street después de ese ruido de mercado que sufrimos en el día de ayer digo sufrimos verdad ruido de mercado veremos cómo reaccionan hoy los inversores ese sentimiento después de que ayer primeramente conociemiento ipc en estados unidos del mes de mayo una décima por debajo lo estuve comentando todo igual que la conferencia de prensa del señor pell de la reserva federal las proyecciones del fond bueno que dejan sin cambios también de momento y que según el nuevo mapa de puntos de bajada el dot plot pues una sola en marzo nos dijeron tres ahora ya se habla solo de una para este año y que se dejan otras para la el próximo año aquí lo estuve comentando a medida de que se iban produciendo las declaraciones pues en el twitter'"
      ]
     },
     "execution_count": 16,
     "metadata": {},
     "output_type": "execute_result"
    }
   ],
   "source": [
    "preprocess_docs[0].page_content"
   ]
  },
  {
   "cell_type": "code",
   "execution_count": 17,
   "metadata": {},
   "outputs": [
    {
     "data": {
      "text/plain": [
       "{'chanel_name': 'Bolsas hoy',\n",
       " 'video_id': 'OyFjPpm87T4',\n",
       " 'source': 'https://www.youtube.com/watch?v=OyFjPpm87T4',\n",
       " 'publish_date': '2024-06-12',\n",
       " 'duration': 795,\n",
       " 'last_update_date': '2024-06-13',\n",
       " 'title': ' qué dijo la fed y el mapa de puntos para bajada de tasas y actualización de bolsas',\n",
       " 'year': 2024,\n",
       " 'split_tokens': 250,\n",
       " 'part': 0}"
      ]
     },
     "execution_count": 17,
     "metadata": {},
     "output_type": "execute_result"
    }
   ],
   "source": [
    "preprocess_docs[0].metadata"
   ]
  },
  {
   "cell_type": "markdown",
   "metadata": {},
   "source": [
    "Chat CPT 3.5 tiene un límite de 4096 tokens\n",
    "GPT-4 \"normal\" de ChatGPT Plus admite 8.192 tokens."
   ]
  },
  {
   "cell_type": "markdown",
   "metadata": {},
   "source": [
    "## Resumen por canal y resumen general"
   ]
  },
  {
   "cell_type": "markdown",
   "metadata": {},
   "source": [
    "resumenes\n",
    "https://python.langchain.com/docs/use_cases/summarization/"
   ]
  },
  {
   "cell_type": "code",
   "execution_count": 18,
   "metadata": {},
   "outputs": [],
   "source": [
    "from external.open_ia_chat import OpenAIChatModel\n",
    "from external.lang_chain_manager import LangChainManager\n",
    "from app.repositories.chat_model import ChatModelRepository\n",
    "from app.repositories.agent_manager import AgentManagerRepository\n",
    "from app.use_cases.data_resume import SummaryDocuments\n",
    "from app.repositories.table_data_loader import TableDataLoader\n",
    "from external.azure_table import AzureTableStorage\n",
    "from app.use_cases.data_map_reduce_resume import MapReduceSummaryDocuments"
   ]
  },
  {
   "cell_type": "code",
   "execution_count": 19,
   "metadata": {},
   "outputs": [],
   "source": [
    "open_ia_model = OpenAIChatModel(temperature=0.1)\n",
    "lang_cahin_manager = LangChainManager()\n",
    "chat_repository = ChatModelRepository(open_ia_model,lang_cahin_manager)\n",
    "agent_repository =AgentManagerRepository(open_ia_model,lang_cahin_manager)\n",
    "\n",
    "azure_table = AzureTableStorage()\n",
    "table_data_loader = TableDataLoader(azure_table)"
   ]
  },
  {
   "cell_type": "code",
   "execution_count": 20,
   "metadata": {},
   "outputs": [
    {
     "data": {
      "text/plain": [
       "'gpt-35-proyecto1'"
      ]
     },
     "execution_count": 20,
     "metadata": {},
     "output_type": "execute_result"
    }
   ],
   "source": [
    "open_ia_model.model"
   ]
  },
  {
   "cell_type": "code",
   "execution_count": 21,
   "metadata": {},
   "outputs": [],
   "source": [
    "documents = preprocess_docs"
   ]
  },
  {
   "cell_type": "code",
   "execution_count": 22,
   "metadata": {},
   "outputs": [
    {
     "data": {
      "text/plain": [
       "['OyFjPpm87T4', 'unmSnP44yPk', '_KD855_mh7E', 'ewaYY2Xx3Ak']"
      ]
     },
     "execution_count": 22,
     "metadata": {},
     "output_type": "execute_result"
    }
   ],
   "source": [
    "values_list = list(df_to_resume['video_id'].unique())\n",
    "values_list"
   ]
  },
  {
   "cell_type": "code",
   "execution_count": 23,
   "metadata": {},
   "outputs": [
    {
     "data": {
      "text/plain": [
       "12089"
      ]
     },
     "execution_count": 23,
     "metadata": {},
     "output_type": "execute_result"
    }
   ],
   "source": [
    "tokens_by_docs =agent_repository.count_tokens(documents)\n",
    "tokens_by_docs"
   ]
  },
  {
   "cell_type": "code",
   "execution_count": 24,
   "metadata": {},
   "outputs": [],
   "source": [
    "use_case_summary = SummaryDocuments(chat_repository,agent_repository,table_data_loader)"
   ]
  },
  {
   "cell_type": "code",
   "execution_count": 25,
   "metadata": {},
   "outputs": [
    {
     "name": "stdout",
     "output_type": "stream",
     "text": [
      "Agrupar documentos\n",
      "tokens transcripciones: 12089\n",
      "Crear resumen\n",
      "tokens transcripciones OyFjPpm87T4: 2477\n",
      "tokens transcripciones unmSnP44yPk: 2728\n",
      "tokens transcripciones _KD855_mh7E: 3473\n",
      "tokens transcripciones ewaYY2Xx3Ak: 3411\n",
      "elementos a guardar 4\n",
      "guardar resumen\n"
     ]
    }
   ],
   "source": [
    "result = use_case_summary.execute(preprocess_docs, df_to_resume, table_name='VideoSummaryTable')"
   ]
  },
  {
   "cell_type": "code",
   "execution_count": 26,
   "metadata": {},
   "outputs": [
    {
     "name": "stdout",
     "output_type": "stream",
     "text": [
      "Introducción:\n",
      "En este informe se analiza la conferencia de prensa de la Reserva Federal de Estados Unidos (Fed) y el mapa de puntos para la bajada de tasas. También se examina la reacción de los mercados financieros, especialmente en relación con las bolsas de valores.\n",
      "\n",
      "Bullet Points:\n",
      "- La conferencia de prensa de la Fed reveló que se espera una sola bajada de tasas para este año, en lugar de las tres que se habían mencionado anteriormente.\n",
      "- La Fed señaló que la economía de Estados Unidos continúa expandiéndose a un ritmo sólido, pero se mantendrá vigilante para evaluar si las políticas restrictivas están teniendo efecto.\n",
      "- A pesar de las perspectivas de inflación más cautelosas de la Fed, Wall Street alcanzó nuevos máximos históricos, impulsado en parte por el fuerte desempeño de Apple.\n",
      "- El Nasdaq también experimentó un fuerte aumento, acercándose a los 20.423 puntos, mientras que el S&P 500 mostró resistencia en su rango actual.\n",
      "- El oro experimentó una subida, pero los futuros indican una caída en el día de hoy.\n",
      "- El dólar cayó inicialmente, pero ha mostrado cierta recuperación, mientras que el euro se fortaleció frente al dólar.\n",
      "\n",
      "Conclusión:\n",
      "La conferencia de prensa de la Fed y el mapa de puntos para la bajada de tasas tuvieron un impacto en los mercados financieros, con Wall Street alcanzando nuevos máximos históricos y el Nasdaq acercándose a niveles significativos. El desempeño de Apple fue destacado, mientras que el oro experimentó una subida seguida de una caída en los futuros. El dólar inicialmente cayó frente al euro, pero ha mostrado cierta recuperación. Se espera que el sentimiento del mercado en los próximos días sea influenciado por la apertura de Wall Street y la reacción de los inversores.\n"
     ]
    }
   ],
   "source": [
    "print(result[0]['resumen'])"
   ]
  },
  {
   "cell_type": "code",
   "execution_count": 27,
   "metadata": {},
   "outputs": [
    {
     "name": "stdout",
     "output_type": "stream",
     "text": [
      "Introducción:\n",
      "El informe se centra en el análisis técnico de Bitcoin y su comportamiento en el mercado el día 13 de junio de 2024. Se destaca la falta de rompimiento de máximos y la presencia de máximos decrecientes en el precio de Bitcoin.\n",
      "\n",
      "Puntos importantes:\n",
      "- A pesar de una fuerte subida inicial y un mercado alcista en general, Bitcoin no logró romper su máximo anterior del 10 de junio.\n",
      "- El precio de Bitcoin se encuentra en un lateral de precios desde principios de año y no ha logrado alcanzar los objetivos de mediano y largo plazo.\n",
      "- Si Bitcoin no logra romper los máximos actuales, se espera una situación de máximos decrecientes.\n",
      "- Se señala la presencia de trampas alcistas en la acción del precio, lo que indica una posible toma de beneficios por parte de las manos fuertes.\n",
      "- Se destaca la importancia de vigilar la apertura de Wall Street y la aparición de catalizadores que puedan cambiar la situación actual.\n",
      "\n",
      "Conclusión:\n",
      "El análisis técnico muestra que Bitcoin no ha logrado romper sus máximos anteriores y se encuentra en una situación de máximos decrecientes. Se espera que el precio continúe cayendo si no se produce un cambio en la situación actual. Es importante estar atentos a la apertura de Wall Street y a posibles catalizadores que puedan influir en el mercado.\n"
     ]
    }
   ],
   "source": [
    "print(result[1]['resumen'])"
   ]
  },
  {
   "cell_type": "markdown",
   "metadata": {},
   "source": [
    "## Map reduce"
   ]
  },
  {
   "cell_type": "code",
   "execution_count": 28,
   "metadata": {},
   "outputs": [
    {
     "data": {
      "text/html": [
       "<div>\n",
       "<style scoped>\n",
       "    .dataframe tbody tr th:only-of-type {\n",
       "        vertical-align: middle;\n",
       "    }\n",
       "\n",
       "    .dataframe tbody tr th {\n",
       "        vertical-align: top;\n",
       "    }\n",
       "\n",
       "    .dataframe thead th {\n",
       "        text-align: right;\n",
       "    }\n",
       "</style>\n",
       "<table border=\"1\" class=\"dataframe\">\n",
       "  <thead>\n",
       "    <tr style=\"text-align: right;\">\n",
       "      <th></th>\n",
       "      <th>nombre_canal</th>\n",
       "      <th>numero_documentos</th>\n",
       "      <th>numero_tokens_iniciales</th>\n",
       "      <th>id_video</th>\n",
       "      <th>fecha_publicacion</th>\n",
       "      <th>fuente</th>\n",
       "      <th>titulo</th>\n",
       "      <th>RowKey</th>\n",
       "      <th>PartitionKey</th>\n",
       "      <th>resumen</th>\n",
       "    </tr>\n",
       "  </thead>\n",
       "  <tbody>\n",
       "    <tr>\n",
       "      <th>0</th>\n",
       "      <td>Bolsas hoy</td>\n",
       "      <td>10</td>\n",
       "      <td>2477</td>\n",
       "      <td>OyFjPpm87T4</td>\n",
       "      <td>2024-06-12</td>\n",
       "      <td>https://www.youtube.com/watch?v=OyFjPpm87T4</td>\n",
       "      <td>qué dijo la fed y el mapa de puntos para baja...</td>\n",
       "      <td>2024-06-13_18_OyFjPpm87T4</td>\n",
       "      <td>OyFjPpm87T4</td>\n",
       "      <td>Introducción:\\nEn este informe se analiza la c...</td>\n",
       "    </tr>\n",
       "    <tr>\n",
       "      <th>1</th>\n",
       "      <td>Bitcoin hoy</td>\n",
       "      <td>11</td>\n",
       "      <td>2728</td>\n",
       "      <td>unmSnP44yPk</td>\n",
       "      <td>2024-06-12</td>\n",
       "      <td>https://www.youtube.com/watch?v=unmSnP44yPk</td>\n",
       "      <td>qué hará bitcoin hoy  13/06/24 08:00 análisis ...</td>\n",
       "      <td>2024-06-13_18_unmSnP44yPk</td>\n",
       "      <td>unmSnP44yPk</td>\n",
       "      <td>Introducción:\\nEl informe se centra en el anál...</td>\n",
       "    </tr>\n",
       "    <tr>\n",
       "      <th>2</th>\n",
       "      <td>Bolsas hoy</td>\n",
       "      <td>14</td>\n",
       "      <td>3473</td>\n",
       "      <td>_KD855_mh7E</td>\n",
       "      <td>2024-06-13</td>\n",
       "      <td>https://www.youtube.com/watch?v=_KD855_mh7E</td>\n",
       "      <td>evaluamos si bolsas seguirán a objetivos y com...</td>\n",
       "      <td>2024-06-13_18__KD855_mh7E</td>\n",
       "      <td>_KD855_mh7E</td>\n",
       "      <td>Introducción:\\nEl texto analiza la situación d...</td>\n",
       "    </tr>\n",
       "    <tr>\n",
       "      <th>3</th>\n",
       "      <td>Bitcoin hoy</td>\n",
       "      <td>14</td>\n",
       "      <td>3411</td>\n",
       "      <td>ewaYY2Xx3Ak</td>\n",
       "      <td>2024-06-13</td>\n",
       "      <td>https://www.youtube.com/watch?v=ewaYY2Xx3Ak</td>\n",
       "      <td>no se invalidad el escenario correctivo , zona...</td>\n",
       "      <td>2024-06-13_18_ewaYY2Xx3Ak</td>\n",
       "      <td>ewaYY2Xx3Ak</td>\n",
       "      <td>Introducción:\\nEl informe se centra en el anál...</td>\n",
       "    </tr>\n",
       "  </tbody>\n",
       "</table>\n",
       "</div>"
      ],
      "text/plain": [
       "  nombre_canal  numero_documentos  numero_tokens_iniciales     id_video  \\\n",
       "0   Bolsas hoy                 10                     2477  OyFjPpm87T4   \n",
       "1  Bitcoin hoy                 11                     2728  unmSnP44yPk   \n",
       "2   Bolsas hoy                 14                     3473  _KD855_mh7E   \n",
       "3  Bitcoin hoy                 14                     3411  ewaYY2Xx3Ak   \n",
       "\n",
       "  fecha_publicacion                                       fuente  \\\n",
       "0        2024-06-12  https://www.youtube.com/watch?v=OyFjPpm87T4   \n",
       "1        2024-06-12  https://www.youtube.com/watch?v=unmSnP44yPk   \n",
       "2        2024-06-13  https://www.youtube.com/watch?v=_KD855_mh7E   \n",
       "3        2024-06-13  https://www.youtube.com/watch?v=ewaYY2Xx3Ak   \n",
       "\n",
       "                                              titulo  \\\n",
       "0   qué dijo la fed y el mapa de puntos para baja...   \n",
       "1  qué hará bitcoin hoy  13/06/24 08:00 análisis ...   \n",
       "2  evaluamos si bolsas seguirán a objetivos y com...   \n",
       "3  no se invalidad el escenario correctivo , zona...   \n",
       "\n",
       "                      RowKey PartitionKey  \\\n",
       "0  2024-06-13_18_OyFjPpm87T4  OyFjPpm87T4   \n",
       "1  2024-06-13_18_unmSnP44yPk  unmSnP44yPk   \n",
       "2  2024-06-13_18__KD855_mh7E  _KD855_mh7E   \n",
       "3  2024-06-13_18_ewaYY2Xx3Ak  ewaYY2Xx3Ak   \n",
       "\n",
       "                                             resumen  \n",
       "0  Introducción:\\nEn este informe se analiza la c...  \n",
       "1  Introducción:\\nEl informe se centra en el anál...  \n",
       "2  Introducción:\\nEl texto analiza la situación d...  \n",
       "3  Introducción:\\nEl informe se centra en el anál...  "
      ]
     },
     "execution_count": 28,
     "metadata": {},
     "output_type": "execute_result"
    }
   ],
   "source": [
    "df =pd.DataFrame(result)\n",
    "df.head()"
   ]
  },
  {
   "cell_type": "markdown",
   "metadata": {},
   "source": [
    "## prueba de caso de uso map reduce"
   ]
  },
  {
   "cell_type": "code",
   "execution_count": 29,
   "metadata": {},
   "outputs": [],
   "source": [
    "use_case_map_reduce_summary = MapReduceSummaryDocuments(chat_repository,agent_repository,table_data_loader)"
   ]
  },
  {
   "cell_type": "code",
   "execution_count": 30,
   "metadata": {},
   "outputs": [
    {
     "name": "stdout",
     "output_type": "stream",
     "text": [
      "Crear resumen\n",
      "tokens transcripciones: 1643\n",
      "guardar resumen general\n"
     ]
    }
   ],
   "source": [
    "final_result = use_case_map_reduce_summary.execute( result, table_name='GeneralSummaryTable')"
   ]
  },
  {
   "cell_type": "code",
   "execution_count": 33,
   "metadata": {},
   "outputs": [
    {
     "name": "stdout",
     "output_type": "stream",
     "text": [
      "Introducción:\n",
      "En este informe final se analizan cuatro temas diferentes relacionados con el trading y el análisis de mercado. Se examina la conferencia de prensa de la Reserva Federal de Estados Unidos (Fed) y el mapa de puntos para la bajada de tasas, el comportamiento de Bitcoin en el mercado, la situación de las bolsas y las acciones, y el análisis del mercado de Bitcoin. A continuación, se presentan los puntos más importantes de cada tema y se concluye con una breve conclusión para cada uno.\n",
      "\n",
      "Conferencia de prensa de la Fed y mapa de puntos para la bajada de tasas:\n",
      "- Se espera una sola bajada de tasas para este año, en lugar de las tres mencionadas anteriormente.\n",
      "- La economía de Estados Unidos continúa expandiéndose a un ritmo sólido, pero se mantendrá vigilante para evaluar el impacto de las políticas restrictivas.\n",
      "- Wall Street alcanzó nuevos máximos históricos, impulsado por el fuerte desempeño de Apple.\n",
      "- El Nasdaq experimentó un fuerte aumento, acercándose a los 20.423 puntos, mientras que el S&P 500 mostró resistencia en su rango actual.\n",
      "- El oro experimentó una subida, pero los futuros indican una caída en el día de hoy.\n",
      "- El dólar cayó inicialmente, pero ha mostrado cierta recuperación, mientras que el euro se fortaleció frente al dólar.\n",
      "\n",
      "Conclusión: La conferencia de prensa de la Fed y el mapa de puntos para la bajada de tasas tuvieron un impacto en los mercados financieros, con Wall Street alcanzando nuevos máximos históricos y el Nasdaq acercándose a niveles significativos. El desempeño de Apple fue destacado, mientras que el oro experimentó una subida seguida de una caída en los futuros. El dólar inicialmente cayó frente al euro, pero ha mostrado cierta recuperación. Se espera que el sentimiento del mercado en los próximos días sea influenciado por la apertura de Wall Street y la reacción de los inversores.\n",
      "\n",
      "Comportamiento de Bitcoin en el mercado:\n",
      "- Bitcoin no logró romper su máximo anterior del 10 de junio, a pesar de una fuerte subida inicial.\n",
      "- El precio de Bitcoin se encuentra en un lateral de precios desde principios de año y no ha logrado alcanzar los objetivos de mediano y largo plazo.\n",
      "- Se espera una situación de máximos decrecientes si Bitcoin no logra romper los máximos actuales.\n",
      "- Se señala la presencia de trampas alcistas en la acción del precio, indicando una posible toma de beneficios por parte de las manos fuertes.\n",
      "- Es importante vigilar la apertura de Wall Street y posibles catalizadores que puedan cambiar la situación actual.\n",
      "\n",
      "Conclusión: El análisis técnico muestra que Bitcoin no ha logrado romper sus máximos anteriores y se encuentra en una situación de máximos decrecientes. Se espera que el precio continúe cayendo si no se produce un cambio en la situación actual. Es importante estar atentos a la apertura de Wall Street y a posibles catalizadores que puedan influir en el mercado.\n",
      "\n",
      "Situación de las bolsas y las acciones:\n",
      "- Los mercados están reaccionando a los datos económicos, como el índice de precios al productor y las solicitudes de desempleo en Estados Unidos.\n",
      "- Aunque los mercados han caído ligeramente, no se espera una caída significativa debido a la euforia actual.\n",
      "- El sentimiento del mercado se encuentra en una zona neutral, indicando que no hay ni euforia ni miedo extremo.\n",
      "- Se mencionan acciones específicas, como PayPal, Google, Alphabet y Microsoft, que están experimentando ganancias y se espera que sigan subiendo.\n",
      "- Se presenta una oportunidad de inversión en ServiceNow, una compañía recomendada por analistas de Wall Street.\n",
      "\n",
      "Conclusión: El informe destaca la situación actual de las bolsas y las acciones, así como una oportunidad de inversión en ServiceNow. Se mencionan los datos económicos relevantes y se proporciona información sobre las expectativas de crecimiento de algunas compañías. En general, se espera que los mercados se mantengan estables y que algunas acciones continúen subiendo en el corto plazo.\n",
      "\n",
      "Análisis del mercado de Bitcoin:\n",
      "- El precio de Bitcoin ha estado experimentando una corre\n"
     ]
    }
   ],
   "source": [
    "print(final_result['resumen'])"
   ]
  }
 ],
 "metadata": {
  "kernelspec": {
   "display_name": ".venv",
   "language": "python",
   "name": "python3"
  },
  "language_info": {
   "codemirror_mode": {
    "name": "ipython",
    "version": 3
   },
   "file_extension": ".py",
   "mimetype": "text/x-python",
   "name": "python",
   "nbconvert_exporter": "python",
   "pygments_lexer": "ipython3",
   "version": "3.11.4"
  }
 },
 "nbformat": 4,
 "nbformat_minor": 2
}
